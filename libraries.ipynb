{
 "cells": [
  {
   "cell_type": "markdown",
   "metadata": {},
   "source": [
    "# Libraries\n",
    "\n",
    "Python comes with a number of built-in functions, but you can access more functions by importing **libraries**. \n",
    "\n",
    "Libraries are collections of functions and other code that someone has created around a particular problem. It is one of the great features of modern programming: anyone can create and share their own code for others to use and build upon, as new problems come along. \n",
    "\n",
    "There are libraries for scraping, for dealing with particular data types such as JSON and XML, for data visualisation, for statistical analysis, for working with dates and times, for producing HTML and JavaScript outputs, and many other situations.\n",
    "\n",
    "You can import and install a library in a Jupyter notebook by using `!conda install` or `!pip install` followed by the name of the library. Some more specific [good practice is outlined in this post](https://jakevdp.github.io/blog/2017/12/05/installing-python-packages-from-jupyter/): first you must `import sys` and then use `!conda install --yes --prefix {sys.prefix}` followed by the name of the package/library that you want to install.\n",
    "\n",
    "Here, for example, is the line to *install* the `pandas` library which is [used for data analysis](https://pandas.pydata.org/)."
   ]
  },
  {
   "cell_type": "code",
   "execution_count": 4,
   "metadata": {
    "collapsed": true
   },
   "outputs": [
    {
     "name": "stdout",
     "output_type": "stream",
     "text": [
      "Solving environment: - \b\b\\ \b\b| \b\b/ \b\b- \b\b\\ \b\b| \b\b/ \b\b- \b\b\\ \b\b| \b\b/ \b\b- \b\b\\ \b\b| \b\b/ \b\b- \b\b\\ \b\b| \b\b/ \b\b- \b\b\\ \b\b| \b\b/ \b\b- \b\b\\ \b\b| \b\b/ \b\b- \b\b\\ \b\b| \b\b/ \b\b- \b\b\\ \b\b| \b\b/ \b\b- \b\b\\ \b\b| \b\b/ \b\b- \b\b\\ \b\b| \b\b/ \b\b- \b\b\\ \b\b| \b\b/ \b\b- \b\b\\ \b\b| \b\b/ \b\b- \b\b\\ \b\b| \b\b/ \b\b- \b\b\\ \b\b| \b\b/ \b\b- \b\b\\ \b\b| \b\b/ \b\b- \b\b\\ \b\b| \b\b/ \b\b- \b\b\\ \b\b| \b\b/ \b\b- \b\b\\ \b\b| \b\b/ \b\b- \b\b\\ \b\b| \b\b/ \b\b- \b\b\\ \b\b| \b\b/ \b\b- \b\b\\ \b\b| \b\b/ \b\bdone\n",
      "\n",
      "# All requested packages already installed.\n",
      "\n"
     ]
    }
   ],
   "source": [
    "#code taken from https://jakevdp.github.io/blog/2017/12/05/installing-python-packages-from-jupyter/\n",
    "import sys\n",
    "!conda install --yes --prefix {sys.prefix} pandas"
   ]
  },
  {
   "cell_type": "markdown",
   "metadata": {},
   "source": [
    "Once installed, the library needs to be *imported* to be activated and available to use in this code."
   ]
  },
  {
   "cell_type": "code",
   "execution_count": 5,
   "metadata": {
    "collapsed": true
   },
   "outputs": [],
   "source": [
    "import pandas"
   ]
  },
  {
   "cell_type": "markdown",
   "metadata": {},
   "source": [
    "Functions and methods from the library are typically prefixed by the name of the library and a period. You can spot a `pandas` function or method, then, because it begins `pandas.`."
   ]
  },
  {
   "cell_type": "code",
   "execution_count": 46,
   "metadata": {
    "collapsed": true
   },
   "outputs": [
    {
     "name": "stdout",
     "output_type": "stream",
     "text": [
      "DatetimeIndex(['2000-01-01', '2000-01-02', '2000-01-03', '2000-01-04',\n",
      "               '2000-01-05', '2000-01-06', '2000-01-07', '2000-01-08'],\n",
      "              dtype='datetime64[ns]', freq='D')\n"
     ]
    }
   ],
   "source": [
    "#This code is adapted from https://pandas.pydata.org/pandas-docs/stable/basics.html\n",
    "#It uses the date_range function to create a series of dates, then assigns those to a variable called 'index'\n",
    "index = pandas.date_range('1/1/2000', periods=8)\n",
    "print(index)"
   ]
  },
  {
   "cell_type": "markdown",
   "metadata": {},
   "source": [
    "Alternatively, you will sometimes see libraries installed and given a simpler alias, like `pd`:"
   ]
  },
  {
   "cell_type": "code",
   "execution_count": 6,
   "metadata": {
    "collapsed": false
   },
   "outputs": [],
   "source": [
    "import pandas as pd"
   ]
  },
  {
   "cell_type": "markdown",
   "metadata": {},
   "source": [
    "In this case the functions will be preceded by the alias (in this case `pd.`):"
   ]
  },
  {
   "cell_type": "code",
   "execution_count": 47,
   "metadata": {
    "collapsed": true
   },
   "outputs": [
    {
     "name": "stdout",
     "output_type": "stream",
     "text": [
      "DatetimeIndex(['2000-01-01', '2000-01-02', '2000-01-03', '2000-01-04',\n",
      "               '2000-01-05', '2000-01-06', '2000-01-07', '2000-01-08'],\n",
      "              dtype='datetime64[ns]', freq='D')\n"
     ]
    }
   ],
   "source": [
    "#This code is adapted from https://pandas.pydata.org/pandas-docs/stable/basics.html\n",
    "#It uses the date_range function to create a series of dates, then assigns those to a variable called 'index'\n",
    "index = pd.date_range('1/1/2000', periods=8)\n",
    "print(index)"
   ]
  },
  {
   "cell_type": "markdown",
   "metadata": {},
   "source": [
    "### The Scraperwiki library\n",
    "\n",
    "Here is the line to import the [scraperwiki library](https://classic.scraperwiki.com/docs/python/python_help_documentation/) which contains useful functions for downloading webpages, extracting information from those, and saving that information."
   ]
  },
  {
   "cell_type": "code",
   "execution_count": 9,
   "metadata": {
    "collapsed": true
   },
   "outputs": [
    {
     "name": "stdout",
     "output_type": "stream",
     "text": [
      "Solving environment: - \b\b\\ \b\b| \b\b/ \b\b- \b\b\\ \b\b| \b\b/ \b\b- \b\b\\ \b\b| \b\b/ \b\b- \b\b\\ \b\b| \b\b/ \b\b- \b\b\\ \b\b| \b\b/ \b\b- \b\b\\ \b\b| \b\b/ \b\b- \b\b\\ \b\b| \b\b/ \b\b- \b\b\\ \b\b| \b\b/ \b\b- \b\b\\ \b\b| \b\b/ \b\b- \b\b\\ \b\b| \b\b/ \b\b- \b\b\\ \b\b| \b\b/ \b\b- \b\b\\ \b\b| \b\b/ \b\b- \b\b\\ \b\bfailed\n",
      "\n",
      "PackagesNotFoundError: The following packages are not available from current channels:\n",
      "\n",
      "  - scraperwiki\n",
      "\n",
      "Current channels:\n",
      "\n",
      "  - https://repo.continuum.io/pkgs/main/osx-64\n",
      "  - https://repo.continuum.io/pkgs/main/noarch\n",
      "  - https://repo.continuum.io/pkgs/free/osx-64\n",
      "  - https://repo.continuum.io/pkgs/free/noarch\n",
      "  - https://repo.continuum.io/pkgs/r/osx-64\n",
      "  - https://repo.continuum.io/pkgs/r/noarch\n",
      "  - https://repo.continuum.io/pkgs/pro/osx-64\n",
      "  - https://repo.continuum.io/pkgs/pro/noarch\n",
      "\n",
      "\n"
     ]
    }
   ],
   "source": [
    "!conda install --yes --prefix {sys.prefix} scraperwiki"
   ]
  },
  {
   "cell_type": "code",
   "execution_count": 3,
   "metadata": {
    "collapsed": false
   },
   "outputs": [],
   "source": [
    "import scraperwiki"
   ]
  },
  {
   "cell_type": "markdown",
   "metadata": {},
   "source": [
    "Once imported, we can follow instructions on [the documentation for that library](https://classic.scraperwiki.com/docs/python/python_help_documentation/) to use particular functions.\n",
    "\n",
    "### The lxml library\n",
    "\n",
    "Another library we need is `lxml.html` - first the `lxml` package is installed then the `lxml.html` part of that."
   ]
  },
  {
   "cell_type": "code",
   "execution_count": 22,
   "metadata": {
    "collapsed": true
   },
   "outputs": [
    {
     "name": "stdout",
     "output_type": "stream",
     "text": [
      "Solving environment: - \b\b\\ \b\b| \b\b/ \b\b- \b\b\\ \b\b| \b\b/ \b\b- \b\b\\ \b\b| \b\b/ \b\b- \b\b\\ \b\b| \b\b/ \b\b- \b\b\\ \b\b| \b\b/ \b\b- \b\b\\ \b\b| \b\b/ \b\b- \b\b\\ \b\b| \b\b/ \b\b- \b\b\\ \b\b| \b\b/ \b\b- \b\b\\ \b\b| \b\b/ \b\b- \b\b\\ \b\b| \b\b/ \b\b- \b\b\\ \b\b| \b\b/ \b\b- \b\b\\ \b\b| \b\b/ \b\b- \b\b\\ \b\b| \b\b/ \b\b- \b\b\\ \b\b| \b\b/ \b\b- \b\b\\ \b\b| \b\b/ \b\b- \b\b\\ \b\b| \b\b/ \b\b- \b\b\\ \b\b| \b\b/ \b\b- \b\b\\ \b\b| \b\b/ \b\b- \b\b\\ \b\bdone\n",
      "\n",
      "## Package Plan ##\n",
      "\n",
      "  environment location: /Users/paul/anaconda\n",
      "\n",
      "  added / updated specs: \n",
      "    - lxml\n",
      "\n",
      "\n",
      "The following packages will be downloaded:\n",
      "\n",
      "    package                    |            build\n",
      "    ---------------------------|-----------------\n",
      "    icu-58.2                   |       h4b95b61_1        22.3 MB\n",
      "    lxml-4.1.1                 |   py35hef8c89e_1         1.3 MB\n",
      "    gettext-0.19.8.1           |       h15daf44_3         3.4 MB\n",
      "    ncurses-6.0                |       hd04f020_2         842 KB\n",
      "    libiconv-1.15              |       hdd342a3_7         1.3 MB\n",
      "    expat-2.2.5                |       hb8e80ba_0         128 KB\n",
      "    libffi-3.2.1               |       h475c297_4          40 KB\n",
      "    pcre-8.41                  |       hfb6ab37_1         222 KB\n",
      "    libedit-3.1                |       hb4e282d_0         153 KB\n",
      "    python-3.5.4               |      he720263_23        14.9 MB\n",
      "    libxml2-2.9.7              |       hab757c2_0         1.9 MB\n",
      "    readline-7.0               |       hc1231fa_4         393 KB\n",
      "    sqlite-3.22.0              |       h3efe00b_0         1.9 MB\n",
      "    libxslt-1.1.32             |       hb819dd2_0         491 KB\n",
      "    glib-2.53.6                |       h33f6a65_2         4.8 MB\n",
      "    pyqt-5.6.0                 |   py35hbd126f6_6         4.2 MB\n",
      "    tk-8.6.7                   |       h35a86e2_3         3.2 MB\n",
      "    dbus-1.12.2                |       h5243cc1_1         538 KB\n",
      "    qt-5.6.2                   |      h9975529_14        65.3 MB\n",
      "    ------------------------------------------------------------\n",
      "                                           Total:       127.1 MB\n",
      "\n",
      "The following NEW packages will be INSTALLED:\n",
      "\n",
      "    dbus:     1.12.2-h5243cc1_1  \n",
      "    expat:    2.2.5-hb8e80ba_0   \n",
      "    gettext:  0.19.8.1-h15daf44_3\n",
      "    glib:     2.53.6-h33f6a65_2  \n",
      "    libedit:  3.1-hb4e282d_0     \n",
      "    libffi:   3.2.1-h475c297_4   \n",
      "    libiconv: 1.15-hdd342a3_7    \n",
      "    ncurses:  6.0-hd04f020_2     \n",
      "    pcre:     8.41-hfb6ab37_1    \n",
      "\n",
      "The following packages will be UPDATED:\n",
      "\n",
      "    icu:      54.1-0              --> 58.2-h4b95b61_1     \n",
      "    libxml2:  2.9.2-0             --> 2.9.7-hab757c2_0    \n",
      "    libxslt:  1.1.28-2            --> 1.1.32-hb819dd2_0   \n",
      "    lxml:     3.6.4-py35_0        --> 4.1.1-py35hef8c89e_1\n",
      "    pyqt:     5.6.0-py35_0        --> 5.6.0-py35hbd126f6_6\n",
      "    python:   3.5.2-0             --> 3.5.4-he720263_23   \n",
      "    qt:       5.6.0-0             --> 5.6.2-h9975529_14   \n",
      "    readline: 6.2-2               --> 7.0-hc1231fa_4      \n",
      "    sqlite:   3.13.0-0            --> 3.22.0-h3efe00b_0   \n",
      "    tk:       8.5.18-0            --> 8.6.7-h35a86e2_3    \n",
      "\n",
      "\n",
      "Downloading and Extracting Packages\n",
      "icu 58.2: ############################################################## | 100% \n",
      "lxml 4.1.1: ############################################################ | 100% \n",
      "gettext 0.19.8.1: ###################################################### | 100% \n",
      "ncurses 6.0: ########################################################### | 100% \n",
      "libiconv 1.15: ######################################################### | 100% \n",
      "expat 2.2.5: ########################################################### | 100% \n",
      "libffi 3.2.1: ########################################################## | 100% \n",
      "pcre 8.41: ############################################################# | 100% \n",
      "libedit 3.1: ########################################################### | 100% \n",
      "python 3.5.4: ########################################################## | 100% \n",
      "libxml2 2.9.7: ######################################################### | 100% \n",
      "readline 7.0: ########################################################## | 100% \n",
      "sqlite 3.22.0: ######################################################### | 100% \n",
      "libxslt 1.1.32: ######################################################## | 100% \n",
      "glib 2.53.6: ########################################################### | 100% \n",
      "pyqt 5.6.0: ############################################################ | 100% \n",
      "tk 8.6.7: ############################################################## | 100% \n",
      "dbus 1.12.2: ########################################################### | 100% \n",
      "qt 5.6.2: ############################################################## | 100% \n",
      "Preparing transaction: / \b\b- \b\b\\ \b\b| \b\b/ \b\b- \b\b\\ \b\bdone\n",
      "Verifying transaction: / \b\b- \b\b\\ \b\b| \b\b/ \b\b- \b\b\\ \b\b| \b\b/ \b\b- \b\b\\ \b\b| \b\b/ \b\b- \b\b\\ \b\b| \b\b/ \b\b- \b\b\\ \b\b| \b\b/ \b\b- \b\b\\ \b\b| \b\b/ \b\b- \b\b\\ \b\b| \b\b/ \b\b- \b\b\\ \b\b| \b\b/ \b\b- \b\b\\ \b\b| \b\b/ \b\b- \b\b\\ \b\b| \b\b/ \b\b- \b\b\\ \b\b| \b\b/ \b\b- \b\b\\ \b\b| \b\b/ \b\b- \b\b\\ \b\b| \b\b/ \b\b- \b\b\\ \b\b| \b\b/ \b\b- \b\b\\ \b\b| \b\b/ \b\b- \b\b\\ \b\b| \b\b/ \b\b- \b\b\\ \b\b| \b\b/ \b\b- \b\b\\ \b\b| \b\b/ \b\b- \b\b\\ \b\b| \b\b/ \b\b- \b\b\\ \b\b| \b\b/ \b\b- \b\b\\ \b\b| \b\b/ \b\b- \b\b\\ \b\b| \b\b/ \b\b- \b\b\\ \b\b| \b\b/ \b\b- \b\b\\ \b\b| \b\b/ \b\b- \b\b\\ \b\b| \b\b/ \b\b- \b\b\\ \b\b| \b\b/ \b\b- \b\b\\ \b\b| \b\b/ \b\b- \b\b\\ \b\b| \b\b/ \b\b- \b\b\\ \b\b| \b\b/ \b\b- \b\b\\ \b\b| \b\b/ \b\b- \b\b\\ \b\b| \b\b/ \b\b- \b\b\\ \b\b| \b\b/ \b\b- \b\b\\ \b\b| \b\b/ \b\b- \b\b\\ \b\b| \b\b/ \b\b- \b\b\\ \b\b| \b\b/ \b\b- \b\b\\ \b\b| \b\b/ \b\b- \b\b\\ \b\b| \b\b/ \b\b- \b\b\\ \b\b| \b\b/ \b\b- \b\b\\ \b\b| \b\b/ \b\b- \b\b\\ \b\b| \b\b/ \b\b- \b\b\\ \b\b| \b\b/ \b\b- \b\b\\ \b\b| \b\b/ \b\b- \b\b\\ \b\b| \b\b/ \b\b- \b\b\\ \b\b| \b\b/ \b\b- \b\b\\ \b\b| \b\b/ \b\b- \b\b\\ \b\b| \b\b/ \b\b- \b\b\\ \b\b| \b\b/ \b\b- \b\b\\ \b\b| \b\b/ \b\b- \b\b\\ \b\b| \b\b/ \b\b- \b\b\\ \b\b| \b\b/ \b\b- \b\b\\ \b\b| \b\b/ \b\b- \b\b\\ \b\b| \b\b/ \b\b- \b\b\\ \b\b| \b\b/ \b\b- \b\b\\ \b\b| \b\b/ \b\b- \b\b\\ \b\b| \b\b/ \b\b- \b\b\\ \b\b| \b\b/ \b\b- \b\b\\ \b\b| \b\b/ \b\b- \b\b\\ \b\b| \b\b/ \b\b- \b\b\\ \b\b| \b\b/ \b\b- \b\b\\ \b\b| \b\b/ \b\b- \b\b\\ \b\b| \b\b/ \b\b- \b\b\\ \b\b| \b\b/ \b\b- \b\b\\ \b\b| \b\b/ \b\b- \b\b\\ \b\b| \b\b/ \b\b- \b\b\\ \b\b| \b\b/ \b\b- \b\b\\ \b\b| \b\b/ \b\b- \b\b\\ \b\b| \b\b/ \b\b- \b\b\\ \b\b| \b\b/ \b\b- \b\b\\ \b\b| \b\b/ \b\b- \b\b\\ \b\b| \b\b/ \b\b- \b\b\\ \b\b| \b\b/ \b\b- \b\b\\ \b\b| \b\b/ \b\b- \b\b\\ \b\b| \b\b/ \b\b- \b\b\\ \b\b| \b\b/ \b\b- \b\b\\ \b\b| \b\b/ \b\b- \b\b\\ \b\b| \b\b/ \b\b- \b\b\\ \b\b| \b\b/ \b\b- \b\b\\ \b\b| \b\b/ \b\b- \b\b\\ \b\b| \b\b/ \b\b- \b\b\\ \b\b| \b\b/ \b\b- \b\b\\ \b\b| \b\b/ \b\b- \b\b\\ \b\b| \b\b/ \b\b- \b\b\\ \b\b| \b\b/ \b\b- \b\b\\ \b\b| \b\b/ \b\b- \b\b\\ \b\b| \b\b/ \b\b- \b\b\\ \b\b| \b\b/ \b\b- \b\b\\ \b\b| \b\b/ \b\b- \b\b\\ \b\b| \b\b/ \b\b- \b\b\\ \b\b| \b\b/ \b\b- \b\b\\ \b\b| \b\b/ \b\b- \b\b\\ \b\b| \b\b/ \b\b- \b\b\\ \b\b| \b\b/ \b\b- \b\b\\ \b\b| \b\b/ \b\b- \b\b\\ \b\b| \b\b/ \b\b- \b\b\\ \b\b| \b\b/ \b\b- \b\b\\ \b\b| \b\b/ \b\b- \b\b\\ \b\b| \b\b/ \b\b- \b\b\\ \b\b| \b\b/ \b\b- \b\b\\ \b\b| \b\b/ \b\b- \b\b\\ \b\b| \b\b/ \b\b- \b\b\\ \b\b| \b\b/ \b\b- \b\b\\ \b\b| \b\b/ \b\b- \b\b\\ \b\b| \b\b/ \b\b- \b\b\\ \b\b| \b\b/ \b\b- \b\b\\ \b\b| \b\b/ \b\b- \b\b\\ \b\b| \b\b/ \b\b- \b\b\\ \b\b| \b\b/ \b\b- \b\b\\ \b\b| \b\b/ \b\b- \b\b\\ \b\b| \b\b/ \b\b- \b\b\\ \b\b| \b\b/ \b\bdone\n",
      "Executing transaction: \\ \b\b| \b\b/ \b\b- \b\b\\ \b\b| \b\b/ \b\b- \b\b\\ \b\b| \b\b/ \b\b- \b\b\\ \b\b| \b\b/ \b\b- \b\b\\ \b\b| \b\b/ \b\b- \b\b\\ \b\b| \b\b/ \b\b- \b\b\\ \b\b| \b\b/ \b\b- \b\b\\ \b\b| \b\b/ \b\b- \b\b\\ \b\b| \b\b/ \b\b- \b\b\\ \b\b| \b\b/ \b\b- \b\b\\ \b\b| \b\b/ \b\b- \b\b\\ \b\b| \b\b/ \b\b- \b\b\\ \b\b| \b\b/ \b\b- \b\b\\ \b\b| \b\b/ \b\b- \b\b\\ \b\b| \b\b/ \b\b- \b\b\\ \b\b| \b\b/ \b\b- \b\b\\ \b\b| \b\b/ \b\b- \b\b\\ \b\b| \b\b/ \b\b- \b\b\\ \b\b| \b\b/ \b\b- \b\b\\ \b\b| \b\b/ \b\b- \b\b\\ \b\b| \b\b/ \b\b- \b\b\\ \b\b| \b\b/ \b\b- \b\b\\ \b\b| \b\b/ \b\b- \b\b\\ \b\b| \b\b/ \b\b- \b\b\\ \b\b| \b\b/ \b\b- \b\b\\ \b\b| \b\b/ \b\b- \b\b\\ \b\b| \b\b/ \b\b- \b\b\\ \b\b| \b\b/ \b\b- \b\b\\ \b\b| \b\b/ \b\b- \b\b\\ \b\b| \b\b/ \b\b- \b\b\\ \b\b| \b\b/ \b\b- \b\b\\ \b\b| \b\b/ \b\b- \b\bdone\n"
     ]
    }
   ],
   "source": [
    "!conda install --yes --prefix {sys.prefix} lxml"
   ]
  },
  {
   "cell_type": "code",
   "execution_count": 5,
   "metadata": {
    "collapsed": false
   },
   "outputs": [],
   "source": [
    "import lxml.html"
   ]
  },
  {
   "cell_type": "markdown",
   "metadata": {},
   "source": [
    "### The `cssselect` library\n",
    "\n",
    "In the code below we install a further library - `cssselect` to drill down into a scraped page using css selectors."
   ]
  },
  {
   "cell_type": "code",
   "execution_count": 8,
   "metadata": {
    "collapsed": true
   },
   "outputs": [
    {
     "name": "stdout",
     "output_type": "stream",
     "text": [
      "<Element html at 0x10e57df48>\n"
     ]
    }
   ],
   "source": [
    "myurl = \"https://www.bbc.co.uk/\"\n",
    "html = scraperwiki.scrape(myurl)\n",
    "#print(html)\n",
    "#convert it to an lxml object\n",
    "root = lxml.html.fromstring(html)\n",
    "print(root)"
   ]
  },
  {
   "cell_type": "code",
   "execution_count": null,
   "metadata": {
    "collapsed": false
   },
   "outputs": [],
   "source": [
    "#cssselect is now its own library: https://cssselect.readthedocs.io/en/latest/\n",
    "!conda install --yes --prefix {sys.prefix} cssselect\n",
    "import cssselect\n",
    "#these lines generate an error - unable to find cssselect"
   ]
  },
  {
   "cell_type": "markdown",
   "metadata": {},
   "source": [
    "Now we can use that, as well as the other libraries, to drill into a scraped page and save it."
   ]
  },
  {
   "cell_type": "code",
   "execution_count": 24,
   "metadata": {
    "collapsed": false
   },
   "outputs": [
    {
     "name": "stdout",
     "output_type": "stream",
     "text": [
      "Rail, road and flights disruption as Storm Emma hits UK. Live now.\n",
      "{'title': 'Rail, road and flights disruption as Storm Emma hits UK. Live now.'}\n",
      "1,000 members of public 'invited' to royal wedding\n",
      "{'title': \"1,000 members of public 'invited' to royal wedding\"}\n",
      "Bus driver speaks out after incredible near miss\n",
      "{'title': 'Bus driver speaks out after incredible near miss'}\n",
      "Hundreds of drivers stranded on M62\n",
      "{'title': 'Hundreds of drivers stranded on M62'}\n",
      "What is the forecast for the week ahead?\n",
      "{'title': 'What is the forecast for the week ahead?'}\n",
      "It's -4C yet some street sleepers are rejecting shelters\n",
      "{'title': \"It's -4C yet some street sleepers are rejecting shelters\"}\n",
      "Army called in as Storm Emma hits UK\n",
      "{'title': 'Army called in as Storm Emma hits UK'}\n",
      "Latest updates as blizzards and snow hit UK. Live now.\n",
      "{'title': 'Latest updates as blizzards and snow hit UK. Live now.'}\n",
      "Royal wedding involvement for public\n",
      "{'title': 'Royal wedding involvement for public'}\n",
      "Arsenal 0-3 Manchester City\n",
      "{'title': 'Arsenal 0-3 Manchester City'}\n",
      "Watch: World Indoor Athletics Championships. Live now.\n",
      "{'title': 'Watch: World Indoor Athletics Championships. Live now.'}\n",
      "Neville praises predecessor Sampson\n",
      "{'title': 'Neville praises predecessor Sampson'}\n",
      "Kids get creative with World Book Day costumes\n",
      "{'title': 'Kids get creative with World Book Day costumes'}\n",
      "Pupils take on teachers in mammoth snowball fight\n",
      "{'title': 'Pupils take on teachers in mammoth snowball fight'}\n",
      "10 heart-warming Welsh words to lift your day\n",
      "{'title': '10 heart-warming Welsh words to lift your day'}\n",
      "'I thought it was just Christmas weight, then I gave birth'\n",
      "{'title': \"'I thought it was just Christmas weight, then I gave birth'\"}\n",
      "Nine things we've learnt about Daniel Kaluuya\n",
      "{'title': \"Nine things we've learnt about Daniel Kaluuya\"}\n",
      "'Having a baby stopped me being violent to my girlfriend'\n",
      "{'title': \"'Having a baby stopped me being violent to my girlfriend'\"}\n",
      "What made Jay-Z the richest rapper in the world?\n",
      "{'title': 'What made Jay-Z the richest rapper in the world?'}\n",
      "Extreme weather forces Greg James to abort challenge\n",
      "{'title': 'Extreme weather forces Greg James to abort challenge'}\n",
      "Skepta and Naomi Campbell pose topless for GQ\n",
      "{'title': 'Skepta and Naomi Campbell pose topless for GQ'}\n",
      "Spandau Ballet star makes surprise Benidorm appearance\n",
      "{'title': 'Spandau Ballet star makes surprise Benidorm appearance'}\n",
      "The team behind Only Connect's brain-bending questions\n",
      "{'title': \"The team behind Only Connect's brain-bending questions\"}\n",
      "Brenda Blethyn: I was offended the first time I saw Vera script\n",
      "{'title': 'Brenda Blethyn: I was offended the first time I saw Vera script'}\n",
      "The Assassination of Gianni Versace - American ...\n",
      "{'title': 'The Assassination of Gianni Versace - American ...'}\n",
      "Civilisations\n",
      "{'title': 'Civilisations'}\n",
      "The Young Offenders\n",
      "{'title': 'The Young Offenders'}\n",
      "Panorama\n",
      "{'title': 'Panorama'}\n",
      "This Country\n",
      "{'title': 'This Country'}\n",
      "Top Gear\n",
      "{'title': 'Top Gear'}\n",
      "Diabetes is 'actually five separate diseases'\n",
      "{'title': \"Diabetes is 'actually five separate diseases'\"}\n",
      "Do home-educated kids find the 'real world' harder?\n",
      "{'title': \"Do home-educated kids find the 'real world' harder?\"}\n",
      "The Viking club that helps men scarred by violence\n",
      "{'title': 'The Viking club that helps men scarred by violence'}\n",
      "Photographer awarded $115K after bride's online attack\n",
      "{'title': \"Photographer awarded $115K after bride's online attack\"}\n",
      "Pride organisers boycott venue over controversial preacher\n",
      "{'title': 'Pride organisers boycott venue over controversial preacher'}\n",
      "'Chav party' uni hockey club punished\n",
      "{'title': \"'Chav party' uni hockey club punished\"}\n",
      "Real-life billboard stunts inspired by Oscars contender\n",
      "{'title': 'Real-life billboard stunts inspired by Oscars contender'}\n",
      "Teacher held after firing gun in class\n",
      "{'title': 'Teacher held after firing gun in class'}\n",
      "Trump's 'closest aide' resigns as communications chief\n",
      "{'title': \"Trump's 'closest aide' resigns as communications chief\"}\n",
      "This team have worn seven different kits (so far) this season\n",
      "{'title': 'This team have worn seven different kits (so far) this season'}\n",
      "The 'epic' snooker frame that lasted over 74 minutes\n",
      "{'title': \"The 'epic' snooker frame that lasted over 74 minutes\"}\n",
      "Wilder: Joshua does not have confidence to fight me\n",
      "{'title': 'Wilder: Joshua does not have confidence to fight me'}\n",
      "Why is snow getting rarer in some places of the world?\n",
      "{'title': 'Why is snow getting rarer in some places of the world?'}\n",
      "How does your body cope with cold temperatures?\n",
      "{'title': 'How does your body cope with cold temperatures?'}\n",
      "Photographer shows us how to take perfect snowy snap\n",
      "{'title': 'Photographer shows us how to take perfect snowy snap'}\n",
      "Benjamin Zephaniah on how poetry is good for your health\n",
      "{'title': 'Benjamin Zephaniah on how poetry is good for your health'}\n",
      "He's back! The Hitchhiker's Guide to Arthur Dent\n",
      "{'title': \"He's back! The Hitchhiker's Guide to Arthur Dent\"}\n",
      "Celebrities share what they love about their favourite books\n",
      "{'title': 'Celebrities share what they love about their favourite books'}\n",
      "Is Salah helping Muslim fans engage with football?\n",
      "{'title': 'Is Salah helping Muslim fans engage with football?'}\n",
      "Scotland's first female bishop consecrated\n",
      "{'title': \"Scotland's first female bishop consecrated\"}\n",
      "Women win payout from New York City in hijab case\n",
      "{'title': 'Women win payout from New York City in hijab case'}\n",
      "Try something different with moreish Mexican recipes\n",
      "{'title': 'Try something different with moreish Mexican recipes'}\n",
      "Five really good rarebit recipes packed with flavour\n",
      "{'title': 'Five really good rarebit recipes packed with flavour'}\n",
      "Five easy ideas for curries\n",
      "{'title': 'Five easy ideas for curries'}\n",
      "'Stormzy's Brit win was one of the best moments of my life'\n",
      "{'title': \"'Stormzy's Brit win was one of the best moments of my life'\"}\n",
      "Five new songs you need to listen to this week\n",
      "{'title': 'Five new songs you need to listen to this week'}\n",
      "'Our house is a non-stop hit factory for pop'\n",
      "{'title': \"'Our house is a non-stop hit factory for pop'\"}\n",
      "Which film star wants a job in Congress?\n",
      "{'title': 'Which film star wants a job in Congress?'}\n",
      "Six questions about animals in novels for World Book Day\n",
      "{'title': 'Six questions about animals in novels for World Book Day'}\n",
      "Are high heels older than the telephone?\n",
      "{'title': 'Are high heels older than the telephone?'}\n",
      "How Gary Neville went from dressing room to boardroom\n",
      "{'title': 'How Gary Neville went from dressing room to boardroom'}\n",
      "Five things that led to the demise of this family favourite\n",
      "{'title': 'Five things that led to the demise of this family favourite'}\n",
      "How rugby team saved man from domestic abuse\n",
      "{'title': 'How rugby team saved man from domestic abuse'}\n",
      "British Socialism: The Grand Tour\n",
      "{'title': 'British Socialism: The Grand Tour'}\n",
      "The Film Programme\n",
      "{'title': 'The Film Programme'}\n",
      "The World in 3D\n",
      "{'title': 'The World in 3D'}\n",
      "Steve Lamacq's Roundtable\n",
      "{'title': \"Steve Lamacq's Roundtable\"}\n",
      "The Radio 2 Arts Show with Anneka Rice\n",
      "{'title': 'The Radio 2 Arts Show with Anneka Rice'}\n",
      "Seani B\n",
      "{'title': 'Seani B'}\n"
     ]
    },
    {
     "ename": "OperationalError",
     "evalue": "(sqlite3.OperationalError) database is locked [SQL: 'INSERT OR REPLACE INTO somepeople (name, age) VALUES (?, ?)'] [parameters: ('paul', 25)]",
     "output_type": "error",
     "traceback": [
      "\u001b[0;31m---------------------------------------------------------------------------\u001b[0m",
      "\u001b[0;31mOperationalError\u001b[0m                          Traceback (most recent call last)",
      "\u001b[0;32m/Users/paul/anaconda/lib/python3.5/site-packages/sqlalchemy/engine/base.py\u001b[0m in \u001b[0;36m_execute_context\u001b[0;34m(self, dialect, constructor, statement, parameters, *args)\u001b[0m\n\u001b[1;32m   1138\u001b[0m                         \u001b[0mparameters\u001b[0m\u001b[0;34m,\u001b[0m\u001b[0;34m\u001b[0m\u001b[0m\n\u001b[0;32m-> 1139\u001b[0;31m                         context)\n\u001b[0m\u001b[1;32m   1140\u001b[0m         \u001b[0;32mexcept\u001b[0m \u001b[0mException\u001b[0m \u001b[0;32mas\u001b[0m \u001b[0me\u001b[0m\u001b[0;34m:\u001b[0m\u001b[0;34m\u001b[0m\u001b[0m\n",
      "\u001b[0;32m/Users/paul/anaconda/lib/python3.5/site-packages/sqlalchemy/engine/default.py\u001b[0m in \u001b[0;36mdo_execute\u001b[0;34m(self, cursor, statement, parameters, context)\u001b[0m\n\u001b[1;32m    449\u001b[0m     \u001b[0;32mdef\u001b[0m \u001b[0mdo_execute\u001b[0m\u001b[0;34m(\u001b[0m\u001b[0mself\u001b[0m\u001b[0;34m,\u001b[0m \u001b[0mcursor\u001b[0m\u001b[0;34m,\u001b[0m \u001b[0mstatement\u001b[0m\u001b[0;34m,\u001b[0m \u001b[0mparameters\u001b[0m\u001b[0;34m,\u001b[0m \u001b[0mcontext\u001b[0m\u001b[0;34m=\u001b[0m\u001b[0;32mNone\u001b[0m\u001b[0;34m)\u001b[0m\u001b[0;34m:\u001b[0m\u001b[0;34m\u001b[0m\u001b[0m\n\u001b[0;32m--> 450\u001b[0;31m         \u001b[0mcursor\u001b[0m\u001b[0;34m.\u001b[0m\u001b[0mexecute\u001b[0m\u001b[0;34m(\u001b[0m\u001b[0mstatement\u001b[0m\u001b[0;34m,\u001b[0m \u001b[0mparameters\u001b[0m\u001b[0;34m)\u001b[0m\u001b[0;34m\u001b[0m\u001b[0m\n\u001b[0m\u001b[1;32m    451\u001b[0m \u001b[0;34m\u001b[0m\u001b[0m\n",
      "\u001b[0;31mOperationalError\u001b[0m: database is locked",
      "\nThe above exception was the direct cause of the following exception:\n",
      "\u001b[0;31mOperationalError\u001b[0m                          Traceback (most recent call last)",
      "\u001b[0;32m<ipython-input-24-2e9d44a1ff68>\u001b[0m in \u001b[0;36m<module>\u001b[0;34m()\u001b[0m\n\u001b[1;32m     21\u001b[0m \u001b[0mrecord\u001b[0m \u001b[0;34m=\u001b[0m \u001b[0;34m{\u001b[0m\u001b[0;34m\"name\"\u001b[0m\u001b[0;34m:\u001b[0m\u001b[0;34m\"paul\"\u001b[0m\u001b[0;34m,\u001b[0m \u001b[0;34m\"age\"\u001b[0m\u001b[0;34m:\u001b[0m \u001b[0;36m25\u001b[0m\u001b[0;34m}\u001b[0m\u001b[0;34m\u001b[0m\u001b[0m\n\u001b[1;32m     22\u001b[0m \u001b[0;31m#And then saves that\u001b[0m\u001b[0;34m\u001b[0m\u001b[0;34m\u001b[0m\u001b[0m\n\u001b[0;32m---> 23\u001b[0;31m \u001b[0mscraperwiki\u001b[0m\u001b[0;34m.\u001b[0m\u001b[0msqlite\u001b[0m\u001b[0;34m.\u001b[0m\u001b[0msave\u001b[0m\u001b[0;34m(\u001b[0m\u001b[0;34m[\u001b[0m\u001b[0;34m'name'\u001b[0m\u001b[0;34m]\u001b[0m\u001b[0;34m,\u001b[0m \u001b[0mrecord\u001b[0m\u001b[0;34m,\u001b[0m \u001b[0mtable_name\u001b[0m\u001b[0;34m=\u001b[0m\u001b[0;34m'somepeople'\u001b[0m\u001b[0;34m)\u001b[0m\u001b[0;34m\u001b[0m\u001b[0m\n\u001b[0m",
      "\u001b[0;32m/Users/paul/anaconda/lib/python3.5/site-packages/scraperwiki/sql.py\u001b[0m in \u001b[0;36msave\u001b[0;34m(unique_keys, data, table_name)\u001b[0m\n\u001b[1;32m    201\u001b[0m                             type(row)))\n\u001b[1;32m    202\u001b[0m         \u001b[0mfit_row\u001b[0m\u001b[0;34m(\u001b[0m\u001b[0mconnection\u001b[0m\u001b[0;34m,\u001b[0m \u001b[0mrow\u001b[0m\u001b[0;34m,\u001b[0m \u001b[0munique_keys\u001b[0m\u001b[0;34m)\u001b[0m\u001b[0;34m\u001b[0m\u001b[0m\n\u001b[0;32m--> 203\u001b[0;31m         \u001b[0mconnection\u001b[0m\u001b[0;34m.\u001b[0m\u001b[0mexecute\u001b[0m\u001b[0;34m(\u001b[0m\u001b[0minsert\u001b[0m\u001b[0;34m.\u001b[0m\u001b[0mvalues\u001b[0m\u001b[0;34m(\u001b[0m\u001b[0mrow\u001b[0m\u001b[0;34m)\u001b[0m\u001b[0;34m)\u001b[0m\u001b[0;34m\u001b[0m\u001b[0m\n\u001b[0m\u001b[1;32m    204\u001b[0m     \u001b[0m_State\u001b[0m\u001b[0;34m.\u001b[0m\u001b[0mcheck_last_committed\u001b[0m\u001b[0;34m(\u001b[0m\u001b[0;34m)\u001b[0m\u001b[0;34m\u001b[0m\u001b[0m\n\u001b[1;32m    205\u001b[0m \u001b[0;34m\u001b[0m\u001b[0m\n",
      "\u001b[0;32m/Users/paul/anaconda/lib/python3.5/site-packages/sqlalchemy/engine/base.py\u001b[0m in \u001b[0;36mexecute\u001b[0;34m(self, object, *multiparams, **params)\u001b[0m\n\u001b[1;32m    912\u001b[0m                 type(object))\n\u001b[1;32m    913\u001b[0m         \u001b[0;32melse\u001b[0m\u001b[0;34m:\u001b[0m\u001b[0;34m\u001b[0m\u001b[0m\n\u001b[0;32m--> 914\u001b[0;31m             \u001b[0;32mreturn\u001b[0m \u001b[0mmeth\u001b[0m\u001b[0;34m(\u001b[0m\u001b[0mself\u001b[0m\u001b[0;34m,\u001b[0m \u001b[0mmultiparams\u001b[0m\u001b[0;34m,\u001b[0m \u001b[0mparams\u001b[0m\u001b[0;34m)\u001b[0m\u001b[0;34m\u001b[0m\u001b[0m\n\u001b[0m\u001b[1;32m    915\u001b[0m \u001b[0;34m\u001b[0m\u001b[0m\n\u001b[1;32m    916\u001b[0m     \u001b[0;32mdef\u001b[0m \u001b[0m_execute_function\u001b[0m\u001b[0;34m(\u001b[0m\u001b[0mself\u001b[0m\u001b[0;34m,\u001b[0m \u001b[0mfunc\u001b[0m\u001b[0;34m,\u001b[0m \u001b[0mmultiparams\u001b[0m\u001b[0;34m,\u001b[0m \u001b[0mparams\u001b[0m\u001b[0;34m)\u001b[0m\u001b[0;34m:\u001b[0m\u001b[0;34m\u001b[0m\u001b[0m\n",
      "\u001b[0;32m/Users/paul/anaconda/lib/python3.5/site-packages/sqlalchemy/sql/elements.py\u001b[0m in \u001b[0;36m_execute_on_connection\u001b[0;34m(self, connection, multiparams, params)\u001b[0m\n\u001b[1;32m    321\u001b[0m \u001b[0;34m\u001b[0m\u001b[0m\n\u001b[1;32m    322\u001b[0m     \u001b[0;32mdef\u001b[0m \u001b[0m_execute_on_connection\u001b[0m\u001b[0;34m(\u001b[0m\u001b[0mself\u001b[0m\u001b[0;34m,\u001b[0m \u001b[0mconnection\u001b[0m\u001b[0;34m,\u001b[0m \u001b[0mmultiparams\u001b[0m\u001b[0;34m,\u001b[0m \u001b[0mparams\u001b[0m\u001b[0;34m)\u001b[0m\u001b[0;34m:\u001b[0m\u001b[0;34m\u001b[0m\u001b[0m\n\u001b[0;32m--> 323\u001b[0;31m         \u001b[0;32mreturn\u001b[0m \u001b[0mconnection\u001b[0m\u001b[0;34m.\u001b[0m\u001b[0m_execute_clauseelement\u001b[0m\u001b[0;34m(\u001b[0m\u001b[0mself\u001b[0m\u001b[0;34m,\u001b[0m \u001b[0mmultiparams\u001b[0m\u001b[0;34m,\u001b[0m \u001b[0mparams\u001b[0m\u001b[0;34m)\u001b[0m\u001b[0;34m\u001b[0m\u001b[0m\n\u001b[0m\u001b[1;32m    324\u001b[0m \u001b[0;34m\u001b[0m\u001b[0m\n\u001b[1;32m    325\u001b[0m     \u001b[0;32mdef\u001b[0m \u001b[0munique_params\u001b[0m\u001b[0;34m(\u001b[0m\u001b[0mself\u001b[0m\u001b[0;34m,\u001b[0m \u001b[0;34m*\u001b[0m\u001b[0moptionaldict\u001b[0m\u001b[0;34m,\u001b[0m \u001b[0;34m**\u001b[0m\u001b[0mkwargs\u001b[0m\u001b[0;34m)\u001b[0m\u001b[0;34m:\u001b[0m\u001b[0;34m\u001b[0m\u001b[0m\n",
      "\u001b[0;32m/Users/paul/anaconda/lib/python3.5/site-packages/sqlalchemy/engine/base.py\u001b[0m in \u001b[0;36m_execute_clauseelement\u001b[0;34m(self, elem, multiparams, params)\u001b[0m\n\u001b[1;32m   1008\u001b[0m             \u001b[0mcompiled_sql\u001b[0m\u001b[0;34m,\u001b[0m\u001b[0;34m\u001b[0m\u001b[0m\n\u001b[1;32m   1009\u001b[0m             \u001b[0mdistilled_params\u001b[0m\u001b[0;34m,\u001b[0m\u001b[0;34m\u001b[0m\u001b[0m\n\u001b[0;32m-> 1010\u001b[0;31m             \u001b[0mcompiled_sql\u001b[0m\u001b[0;34m,\u001b[0m \u001b[0mdistilled_params\u001b[0m\u001b[0;34m\u001b[0m\u001b[0m\n\u001b[0m\u001b[1;32m   1011\u001b[0m         )\n\u001b[1;32m   1012\u001b[0m         \u001b[0;32mif\u001b[0m \u001b[0mself\u001b[0m\u001b[0;34m.\u001b[0m\u001b[0m_has_events\u001b[0m \u001b[0;32mor\u001b[0m \u001b[0mself\u001b[0m\u001b[0;34m.\u001b[0m\u001b[0mengine\u001b[0m\u001b[0;34m.\u001b[0m\u001b[0m_has_events\u001b[0m\u001b[0;34m:\u001b[0m\u001b[0;34m\u001b[0m\u001b[0m\n",
      "\u001b[0;32m/Users/paul/anaconda/lib/python3.5/site-packages/sqlalchemy/engine/base.py\u001b[0m in \u001b[0;36m_execute_context\u001b[0;34m(self, dialect, constructor, statement, parameters, *args)\u001b[0m\n\u001b[1;32m   1144\u001b[0m                 \u001b[0mparameters\u001b[0m\u001b[0;34m,\u001b[0m\u001b[0;34m\u001b[0m\u001b[0m\n\u001b[1;32m   1145\u001b[0m                 \u001b[0mcursor\u001b[0m\u001b[0;34m,\u001b[0m\u001b[0;34m\u001b[0m\u001b[0m\n\u001b[0;32m-> 1146\u001b[0;31m                 context)\n\u001b[0m\u001b[1;32m   1147\u001b[0m \u001b[0;34m\u001b[0m\u001b[0m\n\u001b[1;32m   1148\u001b[0m         \u001b[0;32mif\u001b[0m \u001b[0mself\u001b[0m\u001b[0;34m.\u001b[0m\u001b[0m_has_events\u001b[0m \u001b[0;32mor\u001b[0m \u001b[0mself\u001b[0m\u001b[0;34m.\u001b[0m\u001b[0mengine\u001b[0m\u001b[0;34m.\u001b[0m\u001b[0m_has_events\u001b[0m\u001b[0;34m:\u001b[0m\u001b[0;34m\u001b[0m\u001b[0m\n",
      "\u001b[0;32m/Users/paul/anaconda/lib/python3.5/site-packages/sqlalchemy/engine/base.py\u001b[0m in \u001b[0;36m_handle_dbapi_exception\u001b[0;34m(self, e, statement, parameters, cursor, context)\u001b[0m\n\u001b[1;32m   1339\u001b[0m                 util.raise_from_cause(\n\u001b[1;32m   1340\u001b[0m                     \u001b[0msqlalchemy_exception\u001b[0m\u001b[0;34m,\u001b[0m\u001b[0;34m\u001b[0m\u001b[0m\n\u001b[0;32m-> 1341\u001b[0;31m                     \u001b[0mexc_info\u001b[0m\u001b[0;34m\u001b[0m\u001b[0m\n\u001b[0m\u001b[1;32m   1342\u001b[0m                 )\n\u001b[1;32m   1343\u001b[0m             \u001b[0;32melse\u001b[0m\u001b[0;34m:\u001b[0m\u001b[0;34m\u001b[0m\u001b[0m\n",
      "\u001b[0;32m/Users/paul/anaconda/lib/python3.5/site-packages/sqlalchemy/util/compat.py\u001b[0m in \u001b[0;36mraise_from_cause\u001b[0;34m(exception, exc_info)\u001b[0m\n\u001b[1;32m    200\u001b[0m     \u001b[0mexc_type\u001b[0m\u001b[0;34m,\u001b[0m \u001b[0mexc_value\u001b[0m\u001b[0;34m,\u001b[0m \u001b[0mexc_tb\u001b[0m \u001b[0;34m=\u001b[0m \u001b[0mexc_info\u001b[0m\u001b[0;34m\u001b[0m\u001b[0m\n\u001b[1;32m    201\u001b[0m     \u001b[0mcause\u001b[0m \u001b[0;34m=\u001b[0m \u001b[0mexc_value\u001b[0m \u001b[0;32mif\u001b[0m \u001b[0mexc_value\u001b[0m \u001b[0;32mis\u001b[0m \u001b[0;32mnot\u001b[0m \u001b[0mexception\u001b[0m \u001b[0;32melse\u001b[0m \u001b[0;32mNone\u001b[0m\u001b[0;34m\u001b[0m\u001b[0m\n\u001b[0;32m--> 202\u001b[0;31m     \u001b[0mreraise\u001b[0m\u001b[0;34m(\u001b[0m\u001b[0mtype\u001b[0m\u001b[0;34m(\u001b[0m\u001b[0mexception\u001b[0m\u001b[0;34m)\u001b[0m\u001b[0;34m,\u001b[0m \u001b[0mexception\u001b[0m\u001b[0;34m,\u001b[0m \u001b[0mtb\u001b[0m\u001b[0;34m=\u001b[0m\u001b[0mexc_tb\u001b[0m\u001b[0;34m,\u001b[0m \u001b[0mcause\u001b[0m\u001b[0;34m=\u001b[0m\u001b[0mcause\u001b[0m\u001b[0;34m)\u001b[0m\u001b[0;34m\u001b[0m\u001b[0m\n\u001b[0m\u001b[1;32m    203\u001b[0m \u001b[0;34m\u001b[0m\u001b[0m\n\u001b[1;32m    204\u001b[0m \u001b[0;32mif\u001b[0m \u001b[0mpy3k\u001b[0m\u001b[0;34m:\u001b[0m\u001b[0;34m\u001b[0m\u001b[0m\n",
      "\u001b[0;32m/Users/paul/anaconda/lib/python3.5/site-packages/sqlalchemy/util/compat.py\u001b[0m in \u001b[0;36mreraise\u001b[0;34m(tp, value, tb, cause)\u001b[0m\n\u001b[1;32m    183\u001b[0m             \u001b[0mvalue\u001b[0m\u001b[0;34m.\u001b[0m\u001b[0m__cause__\u001b[0m \u001b[0;34m=\u001b[0m \u001b[0mcause\u001b[0m\u001b[0;34m\u001b[0m\u001b[0m\n\u001b[1;32m    184\u001b[0m         \u001b[0;32mif\u001b[0m \u001b[0mvalue\u001b[0m\u001b[0;34m.\u001b[0m\u001b[0m__traceback__\u001b[0m \u001b[0;32mis\u001b[0m \u001b[0;32mnot\u001b[0m \u001b[0mtb\u001b[0m\u001b[0;34m:\u001b[0m\u001b[0;34m\u001b[0m\u001b[0m\n\u001b[0;32m--> 185\u001b[0;31m             \u001b[0;32mraise\u001b[0m \u001b[0mvalue\u001b[0m\u001b[0;34m.\u001b[0m\u001b[0mwith_traceback\u001b[0m\u001b[0;34m(\u001b[0m\u001b[0mtb\u001b[0m\u001b[0;34m)\u001b[0m\u001b[0;34m\u001b[0m\u001b[0m\n\u001b[0m\u001b[1;32m    186\u001b[0m         \u001b[0;32mraise\u001b[0m \u001b[0mvalue\u001b[0m\u001b[0;34m\u001b[0m\u001b[0m\n\u001b[1;32m    187\u001b[0m \u001b[0;34m\u001b[0m\u001b[0m\n",
      "\u001b[0;32m/Users/paul/anaconda/lib/python3.5/site-packages/sqlalchemy/engine/base.py\u001b[0m in \u001b[0;36m_execute_context\u001b[0;34m(self, dialect, constructor, statement, parameters, *args)\u001b[0m\n\u001b[1;32m   1137\u001b[0m                         \u001b[0mstatement\u001b[0m\u001b[0;34m,\u001b[0m\u001b[0;34m\u001b[0m\u001b[0m\n\u001b[1;32m   1138\u001b[0m                         \u001b[0mparameters\u001b[0m\u001b[0;34m,\u001b[0m\u001b[0;34m\u001b[0m\u001b[0m\n\u001b[0;32m-> 1139\u001b[0;31m                         context)\n\u001b[0m\u001b[1;32m   1140\u001b[0m         \u001b[0;32mexcept\u001b[0m \u001b[0mException\u001b[0m \u001b[0;32mas\u001b[0m \u001b[0me\u001b[0m\u001b[0;34m:\u001b[0m\u001b[0;34m\u001b[0m\u001b[0m\n\u001b[1;32m   1141\u001b[0m             self._handle_dbapi_exception(\n",
      "\u001b[0;32m/Users/paul/anaconda/lib/python3.5/site-packages/sqlalchemy/engine/default.py\u001b[0m in \u001b[0;36mdo_execute\u001b[0;34m(self, cursor, statement, parameters, context)\u001b[0m\n\u001b[1;32m    448\u001b[0m \u001b[0;34m\u001b[0m\u001b[0m\n\u001b[1;32m    449\u001b[0m     \u001b[0;32mdef\u001b[0m \u001b[0mdo_execute\u001b[0m\u001b[0;34m(\u001b[0m\u001b[0mself\u001b[0m\u001b[0;34m,\u001b[0m \u001b[0mcursor\u001b[0m\u001b[0;34m,\u001b[0m \u001b[0mstatement\u001b[0m\u001b[0;34m,\u001b[0m \u001b[0mparameters\u001b[0m\u001b[0;34m,\u001b[0m \u001b[0mcontext\u001b[0m\u001b[0;34m=\u001b[0m\u001b[0;32mNone\u001b[0m\u001b[0;34m)\u001b[0m\u001b[0;34m:\u001b[0m\u001b[0;34m\u001b[0m\u001b[0m\n\u001b[0;32m--> 450\u001b[0;31m         \u001b[0mcursor\u001b[0m\u001b[0;34m.\u001b[0m\u001b[0mexecute\u001b[0m\u001b[0;34m(\u001b[0m\u001b[0mstatement\u001b[0m\u001b[0;34m,\u001b[0m \u001b[0mparameters\u001b[0m\u001b[0;34m)\u001b[0m\u001b[0;34m\u001b[0m\u001b[0m\n\u001b[0m\u001b[1;32m    451\u001b[0m \u001b[0;34m\u001b[0m\u001b[0m\n\u001b[1;32m    452\u001b[0m     \u001b[0;32mdef\u001b[0m \u001b[0mdo_execute_no_params\u001b[0m\u001b[0;34m(\u001b[0m\u001b[0mself\u001b[0m\u001b[0;34m,\u001b[0m \u001b[0mcursor\u001b[0m\u001b[0;34m,\u001b[0m \u001b[0mstatement\u001b[0m\u001b[0;34m,\u001b[0m \u001b[0mcontext\u001b[0m\u001b[0;34m=\u001b[0m\u001b[0;32mNone\u001b[0m\u001b[0;34m)\u001b[0m\u001b[0;34m:\u001b[0m\u001b[0;34m\u001b[0m\u001b[0m\n",
      "\u001b[0;31mOperationalError\u001b[0m: (sqlite3.OperationalError) database is locked [SQL: 'INSERT OR REPLACE INTO somepeople (name, age) VALUES (?, ?)'] [parameters: ('paul', 25)]"
     ]
    }
   ],
   "source": [
    "h3s = root.cssselect('h3')\n",
    "#Uncomment the next line to show how many items are in the list created above\n",
    "#print(len(h3s))\n",
    "#Uncomment the next line to show the text content of the first item in the list\n",
    "#print h3s[0].text_content()\n",
    "#Create an empty dictionary variable which we'll use to store data, then save\n",
    "dictionarytofill = {}\n",
    "#Loop through the list\n",
    "for h3 in h3s:\n",
    "    #Print the text content of each item\n",
    "    print(h3.text_content())\n",
    "    #print(h3.attrib['href'])\n",
    "    #We haven't saved these yet, so let's do that - in the empty dictionary under the key 'title'\n",
    "    dictionarytofill['title'] = h3.text_content()\n",
    "    print (dictionarytofill)\n",
    "    #dictionarytofill['url'] = h3.attrib['href']\n",
    "    #Now save. The primary key is 'title' (it's the only key), and we are saving the variable 'dictionarytofill'\n",
    "    #scraperwiki.sqlite.save(['title'], dictionarytofill, table_name='headlines') #we name the table 'stories'\n",
    "\n",
    "#Here's a simpler example: it just creates a dictionary variable, then saves it\n",
    "record = {\"name\":\"paul\", \"age\": 25}\n",
    "#And then saves that\n",
    "scraperwiki.sqlite.save(['name'], record, table_name='somepeople')"
   ]
  },
  {
   "cell_type": "markdown",
   "metadata": {},
   "source": [
    "### Opening your Scraperwiki SQL database using command line\n",
    "\n",
    "When you use `scraperwiki.sqlite.save` the data is saved to a SQLite database in the same directory as your code. If you look in the same folder you should see a file called 'scraperwiki.sqlite'.\n",
    "\n",
    "One of the advantages of using Morph.io or Quickcode.io to run scraper code is that they have built-in functionality for seeing the data from that database and querying it. So that's generally going to be the best option.\n",
    "\n",
    "However, if you are doing it locally there are ways to query the database that is now stored on your machine.\n",
    "\n",
    "If you have a Mac (on which sqlite3 is pre-installed) you can do this through the command line:\n",
    "\n",
    "* Open Terminal and navigate to the folder containing your sqlite database (as outlined above, this should be the same location as your code). If you don't know how to do this, check the [guide to command line](https://github.com/paulbradshaw/commandline).\n",
    "* Type `sqlite3`. This starts SQLite and you should now see a `sqlite3>` prompt at the start of every line. Helpfully, it instructs you to *Use \".open FILENAME\" to reopen on a persistent database.* So do that:\n",
    "* Type `.open scraperwiki.sqlite`\n",
    "* Type `.schema` - this should show you the structure of the database which can help you to write a query. It will have a structure like: `CREATE TABLE somepeople ( name TEXT, age BIGINT );`. Any word after `CREATE TABLE` is the name of a table (in this case `somepeople`). Then in parenthesse you have the name of any fields in that table followed by the type of data that field holds: in this case there is a field called `name` containing data of the type `TEXT`, and a second field called `age` of the type `BIGINT` (integer).\n",
    "* Now you know what the tables and fields are called, you can write a query. For example: `SELECT * FROM somepeople;` - note that the query ends with a semi-colon. If you forget to add a semi-colon you will be prompted `...>` to continue writing your query. Just type `;` if this happens to end the query.\n",
    "* You should now see the results of your query (all the data in the table). You can refine it further by naming specific fields and/or criteria, e.g. `SELECT age FROM somepeople;` or `SELECT * FROM somepeople WHERE age > 20;`\n",
    "\n",
    "You can [find more about sqlite3 (including using it on Windows) here](https://sqlite.org/cli.html)"
   ]
  },
  {
   "cell_type": "code",
   "execution_count": 25,
   "metadata": {
    "collapsed": false
   },
   "outputs": [
    {
     "name": "stdout",
     "output_type": "stream",
     "text": [
      "here you go:  [{'age': 25, 'name': 'paul'}]\n"
     ]
    }
   ],
   "source": [
    "#You might be able to query the data from the notebook too.\n",
    "queryresults = scraperwiki.sql.select(\"* from somepeople\")\n",
    "print('here you go: ',queryresults)"
   ]
  },
  {
   "cell_type": "markdown",
   "metadata": {},
   "source": [
    "## Next: pandas\n",
    "\n",
    "It's worth exploring Pandas as well, as this allows you to analyse data using Python:\n",
    "\n",
    "https://www.dataquest.io/blog/python-pandas-databases/"
   ]
  }
 ],
 "metadata": {
  "anaconda-cloud": {},
  "kernelspec": {
   "display_name": "Python [default]",
   "language": "python",
   "name": "python3"
  },
  "language_info": {
   "codemirror_mode": {
    "name": "ipython",
    "version": 3
   },
   "file_extension": ".py",
   "mimetype": "text/x-python",
   "name": "python",
   "nbconvert_exporter": "python",
   "pygments_lexer": "ipython3",
   "version": "3.5.4"
  }
 },
 "nbformat": 4,
 "nbformat_minor": 1
}
