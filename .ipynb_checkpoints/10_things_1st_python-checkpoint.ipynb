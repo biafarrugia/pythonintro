{
 "cells": [
  {
   "cell_type": "markdown",
   "metadata": {},
   "source": [
    "# 10 things to do with Python first\n",
    "\n",
    "## 1. Install Python and Python notebooks\n",
    "\n",
    "The simplest way to get Python up and running on your computer is to [install Anaconda](https://www.anaconda.com/distribution/). This includes a number of tools such as Jupyter notebooks (for creating notebooks with working code - like this one) and Spyder, an environment for running code and seeing the variables you are working with (similar to RStudio, which is also included).\n",
    "\n",
    "## 2. Create a new notebook\n",
    "\n",
    "Once you've installed Anaconda, open it. You should see a number of applications that you can launch (or install). On the Jupyter notebook box, click **Launch**.\n",
    "\n",
    "Depending on your computer, this will probably open a window and run some code in the background. Don't worry about this - just wait for it to finish and a new tab should open in your default browser at an address like `http://localhost:8888/tree/`.\n",
    "\n",
    "This isn't a web address, and it doesn't matter if you're connected to the internet - because this is an address on your own computer, which is now running a little server so you can run live Python code.\n",
    "\n",
    "Hopefully you should recognise some of the folders listed there (like your main Documents folder, Downloads etc.). Navigate to a place where you want to keep your Python notebooks (click on folders to move into them) - and/or create a new folder especially for that.\n",
    "\n",
    "Once you're in the folder you want to use, create a new notebook by clicking on **New** in the upper right corner, and select one of the options under *Notebooks* (if there's more than one it doesn't really matter for now which you choose).\n",
    "\n",
    "This will open a new tab for the new notebook. At this point there are 3 things to draw your attention to:\n",
    "\n",
    "1. Its title - in the upper left corner - will be *Untitled*.\n",
    "2. Under that will be a number of menus and various buttons \n",
    "3. On the page itself will be a box that says `In [ ]:` with a flashing cursor after that. This is where you can type some working code and run it.\n",
    "\n",
    "Let's do the simple thing first: click on *Untitled* and change the name of the document to something meaningful like *python_notebook_test*.\n",
    "\n",
    "Now shift your attention to that flashing cursor.\n",
    "\n",
    "The `In [ ]:` means that this is a **code box**. If we want to write some code and run it, that's fine. Alternatively, however, we can write some narrative, or commentary, explaining the code. And that's what we want to do first.\n",
    "\n",
    "To change the code box to one that we can type normal text into, click on the dropdown menu above, that currently says *Code*. Change it to *Markdown*.\n",
    "\n",
    "The `In [ ]:` should now disappear. Now we can start writing an explanation before we create a code block.\n",
    "\n",
    "**Markdown** is a very simple language for writing and formatting text. You can just write text normally and it will be presented normally, but you can also use certain characters to format parts of text as headings, links, bullet or numbered lists, quotes and so on. \n",
    "\n",
    "Here are the main ones to knows:\n",
    "\n",
    "* Use hashes and a space (e.g. `# My test notebook` ) to create a **heading**. One hash creates a first level heading (the biggest and most important), two hashes creates a second level heading (not quite as important) and so on.\n",
    "* Put an asterisk immediately before and after a word or sentence (no space) to make it **italic**, like so: `I *really* want to learn Python`\n",
    "* Put two asterisks immediately before and after a word or sentence (no space) to make it **bold**, like so: `I really want to learn **Python**`\n",
    "* Put three asterisks immediately before and after a word or sentence (no space) to make it bold *and* italic, like so: `I ***really want to learn*** Python`\n",
    "* Use an asterisk and a space to create a **bullet point**, e.g. `* Task 1: write some code`\n",
    "* To create a **numbered list**, just use numbers instead of asterisks\n",
    "* To create a **link**, put square brackets around the text you want to link, then immediately after the closing square bracket (no space), put the URL of the link in normal parentheses, like so: `[the BBC homepage](http://bbc.co.uk)`\n",
    "* To create an **indented blockquote**, put a `>` character and a space, followed by the quote, like so: `> \"Python notebooks are an excellent way to share your code\"`\n",
    "\n",
    "You can [read more on Markdown in Python notebooks here](https://www.firstpythonnotebook.org/markdown/)\n",
    "\n",
    "Start your notebook by giving it a heading and an introduction, like so:\n",
    "\n",
    "```md\n",
    "# Test notebook\n",
    "\n",
    "This is a test notebook. I'm going to try some code below.\n",
    "```\n",
    "\n",
    "Once you've typed some text, press the 'run cell' button that looks like a 'play' button (to the left of the 'stop' button), or select **Cell > Run Cells** from the menu.\n",
    "\n",
    "The Markdown cell should now 'run' and be converted, so the line with a hash now looks like a heading. \n",
    "\n",
    "If you want to edit this cell at any time, just double-click inside it, and then run the cell again when you've finished.\n",
    "\n",
    "When you ran the cell, it will also have created a new cell underneath. This will be a code cell again. Now you're ready to write some code. \n",
    "\n",
    "(*Note: if you ever need to create a new cell click on **Insert > Insert Cell Below** or **Insert Cell Above** to create a cell above or below the cell you are currently in.*)"
   ]
  },
  {
   "cell_type": "markdown",
   "metadata": {},
   "source": [
    "## 3. Perform some basic commands and calculations\n",
    "\n",
    "Python has a number of built-in commands, **operators** (symbols such as the equals sign, addition sign, etc.) and **functions** (words that perform specific actions, like calculate an average or count the number of characters in a word). \n",
    "\n",
    "One of the most useful commands is `print`. This helps you to see what's happening in your code (by 'printing' it to a part of the screen. For example, you can use it to print the results of calculations, or the contents of objects (called **variables**) that you are using in your code.\n",
    "\n",
    "The `print` command is followed by parentheses containing what you want to print.\n",
    "\n",
    "Here are some lines of code to try first:"
   ]
  },
  {
   "cell_type": "code",
   "execution_count": 1,
   "metadata": {
    "collapsed": false
   },
   "outputs": [
    {
     "name": "stdout",
     "output_type": "stream",
     "text": [
      "Hello\n"
     ]
    }
   ],
   "source": [
    "print(\"Hello\")"
   ]
  },
  {
   "cell_type": "markdown",
   "metadata": {},
   "source": [
    "That box above is a code box. If you type the same code - `print(\"Hello\")` - into your code box, and then click the 'run cell' button, you should see the **output** of the code underneath, just as you see it below the code box above.\n",
    "\n",
    "Here are some others to try. The code box below shows them in action, with the outputs (in Python any line beginning with a hash is a comment and does not do anything):\n",
    "\n",
    "```py\n",
    "#Create a variable called 'myname' - the equals sign assigns a value to it: \"Paul\"\n",
    "myname = \"Paul\"\n",
    "#Measure the length of that variable: a function called 'len' will do that for us\n",
    "len(myname)\n",
    "#Because it contains text, length means the number of characters.\n",
    "```\n"
   ]
  },
  {
   "cell_type": "code",
   "execution_count": 6,
   "metadata": {
    "collapsed": false
   },
   "outputs": [
    {
     "data": {
      "text/plain": [
       "4"
      ]
     },
     "execution_count": 6,
     "metadata": {},
     "output_type": "execute_result"
    }
   ],
   "source": [
    "#Create a variable called 'myname' - the equals sign assigns a value to it: \"Paul\"\n",
    "myname = \"Paul\"\n",
    "#Measure the length of that variable: a function called 'len' will do that for us\n",
    "len(myname)\n",
    "#Because it contains text, length means the number of characters."
   ]
  },
  {
   "cell_type": "markdown",
   "metadata": {},
   "source": [
    "You can spend a lot more time exploring basic Python commands but it will make more sense if you use it for something specific, like scraping - or data analysis. And for that we will need a library..."
   ]
  },
  {
   "cell_type": "markdown",
   "metadata": {},
   "source": [
    "## 4. Install a library\n",
    "\n",
    "If a function is a recipe for performing a specific action (like measuring the length of a sentence, or calculating an average), **libraries** are collections of functions that all relate to a particular sort of task or problem. For example, there are libraries for scraping webpages, or for handling CSV files, or for creating visualisations or interactivity. \n",
    "\n",
    "A widely-used library for data analysis is `pandas` - and that's what we're going to use here.\n",
    "\n",
    "To install a library use the command `import` followed by the name of the library, like so:"
   ]
  },
  {
   "cell_type": "code",
   "execution_count": 7,
   "metadata": {
    "collapsed": true
   },
   "outputs": [],
   "source": [
    "import pandas"
   ]
  },
  {
   "cell_type": "markdown",
   "metadata": {},
   "source": [
    "Nothing actually happens in terms of seeing any feedback - but you should be able to start to use new functions now, that you couldn't without this line of code.\n",
    "\n",
    "Whenever we want to use a function from `pandas`, we will need to use that word `pandas` as well. For that reason, it's very common to abbreviate the name to `pd` by adapting that line of code like so:"
   ]
  },
  {
   "cell_type": "code",
   "execution_count": 8,
   "metadata": {
    "collapsed": true
   },
   "outputs": [],
   "source": [
    "import pandas as pd"
   ]
  },
  {
   "cell_type": "markdown",
   "metadata": {},
   "source": [
    "Now let's use it.\n",
    "\n",
    "## 5. Import and store data \n",
    "\n",
    "Like most programming languages, Python allows you to import and store data in 'objects' called variables.\n",
    "\n",
    "The easiest way to import data is to put it in the same folder as your project. This way you don't have to describe a path to data somewhere else.\n",
    "\n",
    "To import data into a variable, type something like this:"
   ]
  },
  {
   "cell_type": "code",
   "execution_count": 11,
   "metadata": {
    "collapsed": false
   },
   "outputs": [
    {
     "ename": "FileNotFoundError",
     "evalue": "[Errno 2] No such file or directory: 'my_excel_file.xls'",
     "output_type": "error",
     "traceback": [
      "\u001b[0;31m---------------------------------------------------------------------------\u001b[0m",
      "\u001b[0;31mFileNotFoundError\u001b[0m                         Traceback (most recent call last)",
      "\u001b[0;32m<ipython-input-11-bfe53551bca1>\u001b[0m in \u001b[0;36m<module>\u001b[0;34m()\u001b[0m\n\u001b[0;32m----> 1\u001b[0;31m \u001b[0mmydata\u001b[0m \u001b[0;34m=\u001b[0m \u001b[0mpd\u001b[0m\u001b[0;34m.\u001b[0m\u001b[0mread_excel\u001b[0m\u001b[0;34m(\u001b[0m\u001b[0;34m'my_excel_file.xls'\u001b[0m\u001b[0;34m,\u001b[0m \u001b[0msheet_name\u001b[0m\u001b[0;34m=\u001b[0m\u001b[0;36m1\u001b[0m\u001b[0;34m,\u001b[0m \u001b[0mindex_col\u001b[0m\u001b[0;34m=\u001b[0m\u001b[0;36m0\u001b[0m\u001b[0;34m)\u001b[0m\u001b[0;34m\u001b[0m\u001b[0m\n\u001b[0m",
      "\u001b[0;32m/Users/paul/anaconda/lib/python3.5/site-packages/pandas/util/_decorators.py\u001b[0m in \u001b[0;36mwrapper\u001b[0;34m(*args, **kwargs)\u001b[0m\n\u001b[1;32m    116\u001b[0m                 \u001b[0;32melse\u001b[0m\u001b[0;34m:\u001b[0m\u001b[0;34m\u001b[0m\u001b[0m\n\u001b[1;32m    117\u001b[0m                     \u001b[0mkwargs\u001b[0m\u001b[0;34m[\u001b[0m\u001b[0mnew_arg_name\u001b[0m\u001b[0;34m]\u001b[0m \u001b[0;34m=\u001b[0m \u001b[0mnew_arg_value\u001b[0m\u001b[0;34m\u001b[0m\u001b[0m\n\u001b[0;32m--> 118\u001b[0;31m             \u001b[0;32mreturn\u001b[0m \u001b[0mfunc\u001b[0m\u001b[0;34m(\u001b[0m\u001b[0;34m*\u001b[0m\u001b[0margs\u001b[0m\u001b[0;34m,\u001b[0m \u001b[0;34m**\u001b[0m\u001b[0mkwargs\u001b[0m\u001b[0;34m)\u001b[0m\u001b[0;34m\u001b[0m\u001b[0m\n\u001b[0m\u001b[1;32m    119\u001b[0m         \u001b[0;32mreturn\u001b[0m \u001b[0mwrapper\u001b[0m\u001b[0;34m\u001b[0m\u001b[0m\n\u001b[1;32m    120\u001b[0m     \u001b[0;32mreturn\u001b[0m \u001b[0m_deprecate_kwarg\u001b[0m\u001b[0;34m\u001b[0m\u001b[0m\n",
      "\u001b[0;32m/Users/paul/anaconda/lib/python3.5/site-packages/pandas/io/excel.py\u001b[0m in \u001b[0;36mread_excel\u001b[0;34m(io, sheet_name, header, skiprows, skip_footer, index_col, names, usecols, parse_dates, date_parser, na_values, thousands, convert_float, converters, dtype, true_values, false_values, engine, squeeze, **kwds)\u001b[0m\n\u001b[1;32m    228\u001b[0m \u001b[0;34m\u001b[0m\u001b[0m\n\u001b[1;32m    229\u001b[0m     \u001b[0;32mif\u001b[0m \u001b[0;32mnot\u001b[0m \u001b[0misinstance\u001b[0m\u001b[0;34m(\u001b[0m\u001b[0mio\u001b[0m\u001b[0;34m,\u001b[0m \u001b[0mExcelFile\u001b[0m\u001b[0;34m)\u001b[0m\u001b[0;34m:\u001b[0m\u001b[0;34m\u001b[0m\u001b[0m\n\u001b[0;32m--> 230\u001b[0;31m         \u001b[0mio\u001b[0m \u001b[0;34m=\u001b[0m \u001b[0mExcelFile\u001b[0m\u001b[0;34m(\u001b[0m\u001b[0mio\u001b[0m\u001b[0;34m,\u001b[0m \u001b[0mengine\u001b[0m\u001b[0;34m=\u001b[0m\u001b[0mengine\u001b[0m\u001b[0;34m)\u001b[0m\u001b[0;34m\u001b[0m\u001b[0m\n\u001b[0m\u001b[1;32m    231\u001b[0m \u001b[0;34m\u001b[0m\u001b[0m\n\u001b[1;32m    232\u001b[0m     return io._parse_excel(\n",
      "\u001b[0;32m/Users/paul/anaconda/lib/python3.5/site-packages/pandas/io/excel.py\u001b[0m in \u001b[0;36m__init__\u001b[0;34m(self, io, **kwds)\u001b[0m\n\u001b[1;32m    292\u001b[0m             \u001b[0mself\u001b[0m\u001b[0;34m.\u001b[0m\u001b[0mbook\u001b[0m \u001b[0;34m=\u001b[0m \u001b[0mxlrd\u001b[0m\u001b[0;34m.\u001b[0m\u001b[0mopen_workbook\u001b[0m\u001b[0;34m(\u001b[0m\u001b[0mfile_contents\u001b[0m\u001b[0;34m=\u001b[0m\u001b[0mdata\u001b[0m\u001b[0;34m)\u001b[0m\u001b[0;34m\u001b[0m\u001b[0m\n\u001b[1;32m    293\u001b[0m         \u001b[0;32melif\u001b[0m \u001b[0misinstance\u001b[0m\u001b[0;34m(\u001b[0m\u001b[0mself\u001b[0m\u001b[0;34m.\u001b[0m\u001b[0m_io\u001b[0m\u001b[0;34m,\u001b[0m \u001b[0mcompat\u001b[0m\u001b[0;34m.\u001b[0m\u001b[0mstring_types\u001b[0m\u001b[0;34m)\u001b[0m\u001b[0;34m:\u001b[0m\u001b[0;34m\u001b[0m\u001b[0m\n\u001b[0;32m--> 294\u001b[0;31m             \u001b[0mself\u001b[0m\u001b[0;34m.\u001b[0m\u001b[0mbook\u001b[0m \u001b[0;34m=\u001b[0m \u001b[0mxlrd\u001b[0m\u001b[0;34m.\u001b[0m\u001b[0mopen_workbook\u001b[0m\u001b[0;34m(\u001b[0m\u001b[0mself\u001b[0m\u001b[0;34m.\u001b[0m\u001b[0m_io\u001b[0m\u001b[0;34m)\u001b[0m\u001b[0;34m\u001b[0m\u001b[0m\n\u001b[0m\u001b[1;32m    295\u001b[0m         \u001b[0;32melse\u001b[0m\u001b[0;34m:\u001b[0m\u001b[0;34m\u001b[0m\u001b[0m\n\u001b[1;32m    296\u001b[0m             raise ValueError('Must explicitly set engine if not passing in'\n",
      "\u001b[0;32m/Users/paul/anaconda/lib/python3.5/site-packages/xlrd/__init__.py\u001b[0m in \u001b[0;36mopen_workbook\u001b[0;34m(filename, logfile, verbosity, use_mmap, file_contents, encoding_override, formatting_info, on_demand, ragged_rows)\u001b[0m\n\u001b[1;32m    393\u001b[0m         \u001b[0mpeek\u001b[0m \u001b[0;34m=\u001b[0m \u001b[0mfile_contents\u001b[0m\u001b[0;34m[\u001b[0m\u001b[0;34m:\u001b[0m\u001b[0mpeeksz\u001b[0m\u001b[0;34m]\u001b[0m\u001b[0;34m\u001b[0m\u001b[0m\n\u001b[1;32m    394\u001b[0m     \u001b[0;32melse\u001b[0m\u001b[0;34m:\u001b[0m\u001b[0;34m\u001b[0m\u001b[0m\n\u001b[0;32m--> 395\u001b[0;31m         \u001b[0;32mwith\u001b[0m \u001b[0mopen\u001b[0m\u001b[0;34m(\u001b[0m\u001b[0mfilename\u001b[0m\u001b[0;34m,\u001b[0m \u001b[0;34m\"rb\"\u001b[0m\u001b[0;34m)\u001b[0m \u001b[0;32mas\u001b[0m \u001b[0mf\u001b[0m\u001b[0;34m:\u001b[0m\u001b[0;34m\u001b[0m\u001b[0m\n\u001b[0m\u001b[1;32m    396\u001b[0m             \u001b[0mpeek\u001b[0m \u001b[0;34m=\u001b[0m \u001b[0mf\u001b[0m\u001b[0;34m.\u001b[0m\u001b[0mread\u001b[0m\u001b[0;34m(\u001b[0m\u001b[0mpeeksz\u001b[0m\u001b[0;34m)\u001b[0m\u001b[0;34m\u001b[0m\u001b[0m\n\u001b[1;32m    397\u001b[0m     \u001b[0;32mif\u001b[0m \u001b[0mpeek\u001b[0m \u001b[0;34m==\u001b[0m \u001b[0;34mb\"PK\\x03\\x04\"\u001b[0m\u001b[0;34m:\u001b[0m \u001b[0;31m# a ZIP file\u001b[0m\u001b[0;34m\u001b[0m\u001b[0m\n",
      "\u001b[0;31mFileNotFoundError\u001b[0m: [Errno 2] No such file or directory: 'my_excel_file.xls'"
     ]
    }
   ],
   "source": [
    "mydata = pd.read_excel('my_excel_file.xls', sheet_name=1, index_col=0)"
   ]
  },
  {
   "cell_type": "markdown",
   "metadata": {},
   "source": [
    "Ah, that line of code has generated a whole bunch of error stuff. That's OK, it's part and parcel of coding. Don't be intimidated by the many lines that are trying to tell you about the error. The first and last are the most important:\n",
    "\n",
    "`----> 1 mydata = pd.read_excel('my_excel_file.xls', sheet_name=1, index_col=0)`\n",
    "\n",
    "This tells you the line creating the error. We only had one line so it had to be that anyway, but when you are running multiple lines of code this helps you narrow down the problem.\n",
    "\n",
    "`FileNotFoundError: [Errno 2] No such file or directory: 'my_excel_file.xls'`\n",
    "\n",
    "This line tells you that it cannot find a file with that name. That makes sense - I made up the name; there is no file, so it is looking for something that doesn't exist."
   ]
  },
  {
   "cell_type": "code",
   "execution_count": null,
   "metadata": {
    "collapsed": true
   },
   "outputs": [],
   "source": []
  }
 ],
 "metadata": {
  "anaconda-cloud": {},
  "kernelspec": {
   "display_name": "Python [conda env:anaconda]",
   "language": "python",
   "name": "conda-env-anaconda-py"
  },
  "language_info": {
   "codemirror_mode": {
    "name": "ipython",
    "version": 3
   },
   "file_extension": ".py",
   "mimetype": "text/x-python",
   "name": "python",
   "nbconvert_exporter": "python",
   "pygments_lexer": "ipython3",
   "version": "3.5.4"
  }
 },
 "nbformat": 4,
 "nbformat_minor": 1
}
