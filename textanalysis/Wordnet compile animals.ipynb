{
 "cells": [
  {
   "cell_type": "markdown",
   "metadata": {},
   "source": [
    "# How to make a list of animal names using Wordnet\n",
    "\n",
    "This might not work...\n",
    "\n",
    "* Generate a list of categorised keywords as a 'seed' list - import that\n",
    "* For loop: for each item in that list, test the similarity with each of the 10,000 most frequent words in pub names (perhaps test on a few first)\n",
    "* Set a threshold for 'adding' a word to the seed list - e.g. 60% similarity"
   ]
  },
  {
   "cell_type": "code",
   "execution_count": 29,
   "metadata": {
    "collapsed": true
   },
   "outputs": [],
   "source": [
    "#Import pandas library to handle data\n",
    "import pandas\n",
    "#Import NLTK library for handling text\n",
    "import nltk\n",
    "#Import wordnet to deal with word meanings\n",
    "from nltk.corpus import wordnet as wn"
   ]
  },
  {
   "cell_type": "markdown",
   "metadata": {},
   "source": [
    "## Import the data\n",
    "\n",
    "Now to import the list of key words"
   ]
  },
  {
   "cell_type": "code",
   "execution_count": 66,
   "metadata": {
    "collapsed": false
   },
   "outputs": [
    {
     "name": "stdout",
     "output_type": "stream",
     "text": [
      "<class 'pandas.core.frame.DataFrame'>\n",
      "RangeIndex: 479 entries, 0 to 478\n",
      "Data columns (total 3 columns):\n",
      "Unnamed: 0    479 non-null int64\n",
      "keyword       479 non-null object\n",
      "category      479 non-null object\n",
      "dtypes: int64(1), object(2)\n",
      "memory usage: 11.3+ KB\n"
     ]
    },
    {
     "data": {
      "text/html": [
       "<div>\n",
       "<style scoped>\n",
       "    .dataframe tbody tr th:only-of-type {\n",
       "        vertical-align: middle;\n",
       "    }\n",
       "\n",
       "    .dataframe tbody tr th {\n",
       "        vertical-align: top;\n",
       "    }\n",
       "\n",
       "    .dataframe thead th {\n",
       "        text-align: right;\n",
       "    }\n",
       "</style>\n",
       "<table border=\"1\" class=\"dataframe\">\n",
       "  <thead>\n",
       "    <tr style=\"text-align: right;\">\n",
       "      <th></th>\n",
       "      <th>index</th>\n",
       "      <th>keywordsvec</th>\n",
       "      <th>Freq</th>\n",
       "    </tr>\n",
       "  </thead>\n",
       "  <tbody>\n",
       "    <tr>\n",
       "      <th>0</th>\n",
       "      <td>42768</td>\n",
       "      <td>and</td>\n",
       "      <td>3272</td>\n",
       "    </tr>\n",
       "    <tr>\n",
       "      <th>1</th>\n",
       "      <td>42937</td>\n",
       "      <td>arms</td>\n",
       "      <td>3261</td>\n",
       "    </tr>\n",
       "    <tr>\n",
       "      <th>2</th>\n",
       "      <td>56454</td>\n",
       "      <td>white</td>\n",
       "      <td>895</td>\n",
       "    </tr>\n",
       "    <tr>\n",
       "      <th>3</th>\n",
       "      <td>50163</td>\n",
       "      <td>lion</td>\n",
       "      <td>894</td>\n",
       "    </tr>\n",
       "    <tr>\n",
       "      <th>4</th>\n",
       "      <td>48566</td>\n",
       "      <td>head</td>\n",
       "      <td>882</td>\n",
       "    </tr>\n",
       "    <tr>\n",
       "      <th>5</th>\n",
       "      <td>48999</td>\n",
       "      <td>house</td>\n",
       "      <td>852</td>\n",
       "    </tr>\n",
       "    <tr>\n",
       "      <th>6</th>\n",
       "      <td>45865</td>\n",
       "      <td>crown</td>\n",
       "      <td>845</td>\n",
       "    </tr>\n",
       "    <tr>\n",
       "      <th>7</th>\n",
       "      <td>48956</td>\n",
       "      <td>horse</td>\n",
       "      <td>828</td>\n",
       "    </tr>\n",
       "    <tr>\n",
       "      <th>8</th>\n",
       "      <td>51887</td>\n",
       "      <td>of</td>\n",
       "      <td>812</td>\n",
       "    </tr>\n",
       "    <tr>\n",
       "      <th>9</th>\n",
       "      <td>51905</td>\n",
       "      <td>old</td>\n",
       "      <td>764</td>\n",
       "    </tr>\n",
       "  </tbody>\n",
       "</table>\n",
       "</div>"
      ],
      "text/plain": [
       "   index keywordsvec  Freq\n",
       "0  42768         and  3272\n",
       "1  42937        arms  3261\n",
       "2  56454       white   895\n",
       "3  50163        lion   894\n",
       "4  48566        head   882\n",
       "5  48999       house   852\n",
       "6  45865       crown   845\n",
       "7  48956       horse   828\n",
       "8  51887          of   812\n",
       "9  51905         old   764"
      ]
     },
     "execution_count": 66,
     "metadata": {},
     "output_type": "execute_result"
    }
   ],
   "source": [
    "keywords = pandas.read_csv(\"keywordscategorised.csv\")\n",
    "allwords = pandas.read_csv(\"allwords.csv\")\n",
    "#Show object type etc\n",
    "keywords.info()\n",
    "#Show the first 10 rows\n",
    "keywords[:10]\n",
    "allwords[:10]"
   ]
  },
  {
   "cell_type": "markdown",
   "metadata": {},
   "source": [
    "Now let's access a column based on its name:"
   ]
  },
  {
   "cell_type": "code",
   "execution_count": 60,
   "metadata": {
    "collapsed": false
   },
   "outputs": [
    {
     "name": "stdout",
     "output_type": "stream",
     "text": [
      "479\n",
      "56946\n"
     ]
    },
    {
     "data": {
      "text/plain": [
       "0       Butcher\n",
       "1     Ploughman\n",
       "2       Saddler\n",
       "3        Fisher\n",
       "4         Baker\n",
       "5      Fletcher\n",
       "6    Bricklayer\n",
       "7        Farmer\n",
       "8        Brewer\n",
       "9      Shepherd\n",
       "Name: keyword, dtype: object"
      ]
     },
     "execution_count": 60,
     "metadata": {},
     "output_type": "execute_result"
    }
   ],
   "source": [
    "print(len(keywords))\n",
    "print(len(allwords))\n",
    "keywords['keyword'][:10]"
   ]
  },
  {
   "cell_type": "markdown",
   "metadata": {},
   "source": [
    "Now let's test if we can loop through that:"
   ]
  },
  {
   "cell_type": "code",
   "execution_count": 28,
   "metadata": {
    "collapsed": false
   },
   "outputs": [
    {
     "name": "stdout",
     "output_type": "stream",
     "text": [
      "Smith\n",
      "Farrier\n",
      "Blower\n",
      "Cobbler\n",
      "Mason\n",
      "Plough\n",
      "Foundry\n",
      "Mill\n",
      "Sweep\n",
      "Fleece\n",
      "Plumber\n"
     ]
    }
   ],
   "source": [
    "for i in keywords['keyword'][10:21]:\n",
    "    print(i)"
   ]
  },
  {
   "cell_type": "markdown",
   "metadata": {},
   "source": [
    "Or filter:"
   ]
  },
  {
   "cell_type": "code",
   "execution_count": 45,
   "metadata": {
    "collapsed": false
   },
   "outputs": [
    {
     "name": "stdout",
     "output_type": "stream",
     "text": [
      "['Butcher', 'Ploughman', 'Saddler', 'Fisher', 'Baker', 'Fletcher', 'Bricklayer', 'Farmer', 'Brewer', 'Shepherd', 'Smith', 'Farrier', 'Blower', 'Cobbler', 'Mason', 'Plough', 'Foundry', 'Mill', 'Sweep', 'Fleece', 'Plumber', 'Mechanic', 'Carpenter', 'Tailor', 'Waterman', 'Nailor', 'Wool', 'Tapper', 'Forester', 'Beggar', 'Chisel', 'Axe', 'Commercial', 'Windmill', 'Groom', 'Pack', 'Miner', 'Botanist', 'Chemic', 'Bank', 'Collier', 'Maker', 'Advocate', 'Poacher', 'Beachcomber', 'Painter', 'Woodman', 'Smuggler', 'Potter', 'Tradesman', 'Butler', 'Gamekeeper', 'Cutter', 'Archer', 'Rifleman', 'Bobbin', 'Hatchet', 'Pirate', 'Three', 'Bootlegger', 'Joiner', 'Yeoman', 'Tinker', 'Hatter', 'Office', 'Shepherd', 'Watchman', 'Doctor', 'Drayman', 'Carter', 'Caulker', 'Tanner', 'Crispin', 'Postie', 'Footman', 'Weaver', 'Moulder', 'Carrier', 'Huntsman', 'Cooper', 'Jolly', 'Merry', 'Falconer', 'Waterman', 'Thatcher']\n"
     ]
    }
   ],
   "source": [
    "#Create empty list to fill up\n",
    "tradelist = []\n",
    "#Loop through each index\n",
    "for i in range(0,len(keywords)):\n",
    "    #If the category at that index is trade\n",
    "    if keywords['category'][i] == \"trade\":\n",
    "        #Append the keyword at that index to the list\n",
    "        tradelist.append(keywords['keyword'][i])\n",
    "print(tradelist) #once loop finishes print results"
   ]
  },
  {
   "cell_type": "markdown",
   "metadata": {},
   "source": [
    "## Creating a subset of the data\n",
    "\n",
    "We can also create a subset of the dataframe"
   ]
  },
  {
   "cell_type": "code",
   "execution_count": 56,
   "metadata": {
    "collapsed": false
   },
   "outputs": [
    {
     "name": "stdout",
     "output_type": "stream",
     "text": [
      "85\n",
      "161\n"
     ]
    },
    {
     "data": {
      "text/html": [
       "<div>\n",
       "<style scoped>\n",
       "    .dataframe tbody tr th:only-of-type {\n",
       "        vertical-align: middle;\n",
       "    }\n",
       "\n",
       "    .dataframe tbody tr th {\n",
       "        vertical-align: top;\n",
       "    }\n",
       "\n",
       "    .dataframe thead th {\n",
       "        text-align: right;\n",
       "    }\n",
       "</style>\n",
       "<table border=\"1\" class=\"dataframe\">\n",
       "  <thead>\n",
       "    <tr style=\"text-align: right;\">\n",
       "      <th></th>\n",
       "      <th>Unnamed: 0</th>\n",
       "      <th>keyword</th>\n",
       "      <th>category</th>\n",
       "    </tr>\n",
       "  </thead>\n",
       "  <tbody>\n",
       "    <tr>\n",
       "      <th>0</th>\n",
       "      <td>1</td>\n",
       "      <td>Butcher</td>\n",
       "      <td>trade</td>\n",
       "    </tr>\n",
       "    <tr>\n",
       "      <th>1</th>\n",
       "      <td>2</td>\n",
       "      <td>Ploughman</td>\n",
       "      <td>trade</td>\n",
       "    </tr>\n",
       "    <tr>\n",
       "      <th>2</th>\n",
       "      <td>3</td>\n",
       "      <td>Saddler</td>\n",
       "      <td>trade</td>\n",
       "    </tr>\n",
       "    <tr>\n",
       "      <th>3</th>\n",
       "      <td>4</td>\n",
       "      <td>Fisher</td>\n",
       "      <td>trade</td>\n",
       "    </tr>\n",
       "    <tr>\n",
       "      <th>4</th>\n",
       "      <td>5</td>\n",
       "      <td>Baker</td>\n",
       "      <td>trade</td>\n",
       "    </tr>\n",
       "    <tr>\n",
       "      <th>5</th>\n",
       "      <td>6</td>\n",
       "      <td>Fletcher</td>\n",
       "      <td>trade</td>\n",
       "    </tr>\n",
       "    <tr>\n",
       "      <th>6</th>\n",
       "      <td>7</td>\n",
       "      <td>Bricklayer</td>\n",
       "      <td>trade</td>\n",
       "    </tr>\n",
       "    <tr>\n",
       "      <th>7</th>\n",
       "      <td>8</td>\n",
       "      <td>Farmer</td>\n",
       "      <td>trade</td>\n",
       "    </tr>\n",
       "    <tr>\n",
       "      <th>8</th>\n",
       "      <td>9</td>\n",
       "      <td>Brewer</td>\n",
       "      <td>trade</td>\n",
       "    </tr>\n",
       "    <tr>\n",
       "      <th>9</th>\n",
       "      <td>10</td>\n",
       "      <td>Shepherd</td>\n",
       "      <td>trade</td>\n",
       "    </tr>\n",
       "  </tbody>\n",
       "</table>\n",
       "</div>"
      ],
      "text/plain": [
       "   Unnamed: 0     keyword category\n",
       "0           1     Butcher    trade\n",
       "1           2   Ploughman    trade\n",
       "2           3     Saddler    trade\n",
       "3           4      Fisher    trade\n",
       "4           5       Baker    trade\n",
       "5           6    Fletcher    trade\n",
       "6           7  Bricklayer    trade\n",
       "7           8      Farmer    trade\n",
       "8           9      Brewer    trade\n",
       "9          10    Shepherd    trade"
      ]
     },
     "execution_count": 56,
     "metadata": {},
     "output_type": "execute_result"
    }
   ],
   "source": [
    "#Create the new variable\n",
    "tradekeywordsonly = keywords[keywords.category == \"trade\"]\n",
    "#Note the parentheses when passing multiple criteria\n",
    "tradeoranimals = keywords[(keywords.category == \"trade\")|(keywords.category == \"animals\")]\n",
    "print(len(tradekeywordsonly))\n",
    "print(len(tradeoranimals))\n",
    "#Print the first 10 rows\n",
    "tradekeywordsonly[:10]"
   ]
  },
  {
   "cell_type": "code",
   "execution_count": 69,
   "metadata": {
    "collapsed": false
   },
   "outputs": [],
   "source": [
    "allwordslist = allwords.keywordsvec\n",
    "#allwords.keywordsvec[:10]"
   ]
  },
  {
   "cell_type": "code",
   "execution_count": 73,
   "metadata": {
    "collapsed": false
   },
   "outputs": [
    {
     "name": "stdout",
     "output_type": "stream",
     "text": [
      "and\n",
      "arms\n",
      "white\n",
      "lion\n",
      "head\n",
      "house\n",
      "crown\n",
      "horse\n",
      "of\n",
      "old\n"
     ]
    }
   ],
   "source": [
    "for i in allwordslist[:10]:\n",
    "    print(i)"
   ]
  },
  {
   "cell_type": "markdown",
   "metadata": {},
   "source": [
    "## Testing similarity\n",
    "\n",
    "We can test similarity by using `.wup_similarity` - but it will only work if the word is in the Wordnet corpus."
   ]
  },
  {
   "cell_type": "code",
   "execution_count": 77,
   "metadata": {
    "collapsed": false
   },
   "outputs": [
    {
     "data": {
      "text/plain": [
       "0.4444444444444444"
      ]
     },
     "execution_count": 77,
     "metadata": {},
     "output_type": "execute_result"
    }
   ],
   "source": [
    "#Test similarity between two words\n",
    "wn.synset('arms'+'.n.01').wup_similarity(wn.synset('Butcher'+'.n.01'))"
   ]
  },
  {
   "cell_type": "code",
   "execution_count": 80,
   "metadata": {
    "collapsed": false
   },
   "outputs": [
    {
     "ename": "WordNetError",
     "evalue": "no lemma 'and' with part of speech 'n'",
     "output_type": "error",
     "traceback": [
      "\u001b[0;31m---------------------------------------------------------------------------\u001b[0m",
      "\u001b[0;31mKeyError\u001b[0m                                  Traceback (most recent call last)",
      "\u001b[0;32m/Users/paul/anaconda/lib/python3.5/site-packages/nltk/corpus/reader/wordnet.py\u001b[0m in \u001b[0;36msynset\u001b[0;34m(self, name)\u001b[0m\n\u001b[1;32m   1233\u001b[0m         \u001b[0;32mtry\u001b[0m\u001b[0;34m:\u001b[0m\u001b[0;34m\u001b[0m\u001b[0m\n\u001b[0;32m-> 1234\u001b[0;31m             \u001b[0moffset\u001b[0m \u001b[0;34m=\u001b[0m \u001b[0mself\u001b[0m\u001b[0;34m.\u001b[0m\u001b[0m_lemma_pos_offset_map\u001b[0m\u001b[0;34m[\u001b[0m\u001b[0mlemma\u001b[0m\u001b[0;34m]\u001b[0m\u001b[0;34m[\u001b[0m\u001b[0mpos\u001b[0m\u001b[0;34m]\u001b[0m\u001b[0;34m[\u001b[0m\u001b[0msynset_index\u001b[0m\u001b[0;34m]\u001b[0m\u001b[0;34m\u001b[0m\u001b[0m\n\u001b[0m\u001b[1;32m   1235\u001b[0m         \u001b[0;32mexcept\u001b[0m \u001b[0mKeyError\u001b[0m\u001b[0;34m:\u001b[0m\u001b[0;34m\u001b[0m\u001b[0m\n",
      "\u001b[0;31mKeyError\u001b[0m: 'n'",
      "\nDuring handling of the above exception, another exception occurred:\n",
      "\u001b[0;31mWordNetError\u001b[0m                              Traceback (most recent call last)",
      "\u001b[0;32m<ipython-input-80-a76f0c1e4a5f>\u001b[0m in \u001b[0;36m<module>\u001b[0;34m()\u001b[0m\n\u001b[1;32m      1\u001b[0m \u001b[0;31m#But using a non-noun will throw an error:\u001b[0m\u001b[0;34m\u001b[0m\u001b[0;34m\u001b[0m\u001b[0m\n\u001b[0;32m----> 2\u001b[0;31m \u001b[0mwn\u001b[0m\u001b[0;34m.\u001b[0m\u001b[0msynset\u001b[0m\u001b[0;34m(\u001b[0m\u001b[0;34m'and'\u001b[0m\u001b[0;34m+\u001b[0m\u001b[0;34m'.n.01'\u001b[0m\u001b[0;34m)\u001b[0m\u001b[0;34m.\u001b[0m\u001b[0mwup_similarity\u001b[0m\u001b[0;34m(\u001b[0m\u001b[0mwn\u001b[0m\u001b[0;34m.\u001b[0m\u001b[0msynset\u001b[0m\u001b[0;34m(\u001b[0m\u001b[0;34m'Butcher'\u001b[0m\u001b[0;34m+\u001b[0m\u001b[0;34m'.n.01'\u001b[0m\u001b[0;34m)\u001b[0m\u001b[0;34m)\u001b[0m\u001b[0;34m\u001b[0m\u001b[0m\n\u001b[0m",
      "\u001b[0;32m/Users/paul/anaconda/lib/python3.5/site-packages/nltk/corpus/reader/wordnet.py\u001b[0m in \u001b[0;36msynset\u001b[0;34m(self, name)\u001b[0m\n\u001b[1;32m   1235\u001b[0m         \u001b[0;32mexcept\u001b[0m \u001b[0mKeyError\u001b[0m\u001b[0;34m:\u001b[0m\u001b[0;34m\u001b[0m\u001b[0m\n\u001b[1;32m   1236\u001b[0m             \u001b[0mmessage\u001b[0m \u001b[0;34m=\u001b[0m \u001b[0;34m'no lemma %r with part of speech %r'\u001b[0m\u001b[0;34m\u001b[0m\u001b[0m\n\u001b[0;32m-> 1237\u001b[0;31m             \u001b[0;32mraise\u001b[0m \u001b[0mWordNetError\u001b[0m\u001b[0;34m(\u001b[0m\u001b[0mmessage\u001b[0m \u001b[0;34m%\u001b[0m \u001b[0;34m(\u001b[0m\u001b[0mlemma\u001b[0m\u001b[0;34m,\u001b[0m \u001b[0mpos\u001b[0m\u001b[0;34m)\u001b[0m\u001b[0;34m)\u001b[0m\u001b[0;34m\u001b[0m\u001b[0m\n\u001b[0m\u001b[1;32m   1238\u001b[0m         \u001b[0;32mexcept\u001b[0m \u001b[0mIndexError\u001b[0m\u001b[0;34m:\u001b[0m\u001b[0;34m\u001b[0m\u001b[0m\n\u001b[1;32m   1239\u001b[0m             \u001b[0mn_senses\u001b[0m \u001b[0;34m=\u001b[0m \u001b[0mlen\u001b[0m\u001b[0;34m(\u001b[0m\u001b[0mself\u001b[0m\u001b[0;34m.\u001b[0m\u001b[0m_lemma_pos_offset_map\u001b[0m\u001b[0;34m[\u001b[0m\u001b[0mlemma\u001b[0m\u001b[0;34m]\u001b[0m\u001b[0;34m[\u001b[0m\u001b[0mpos\u001b[0m\u001b[0;34m]\u001b[0m\u001b[0;34m)\u001b[0m\u001b[0;34m\u001b[0m\u001b[0m\n",
      "\u001b[0;31mWordNetError\u001b[0m: no lemma 'and' with part of speech 'n'"
     ]
    }
   ],
   "source": [
    "#But using a word like 'and' or 'of' will throw an error:\n",
    "wn.synset('and'+'.n.01').wup_similarity(wn.synset('Butcher'+'.n.01'))"
   ]
  },
  {
   "cell_type": "code",
   "execution_count": 84,
   "metadata": {
    "collapsed": false
   },
   "outputs": [
    {
     "name": "stdout",
     "output_type": "stream",
     "text": [
      "not in corpus\n"
     ]
    }
   ],
   "source": [
    "#We need to use try to avoid this tripping us up\n",
    "try:\n",
    "    wn.synset('and'+'.n.01').wup_similarity(wn.synset('Butcher'+'.n.01'))\n",
    "except:\n",
    "    print(\"not in corpus\")"
   ]
  },
  {
   "cell_type": "code",
   "execution_count": 93,
   "metadata": {
    "collapsed": false
   },
   "outputs": [
    {
     "name": "stdout",
     "output_type": "stream",
     "text": [
      "4792\n",
      "52154\n"
     ]
    }
   ],
   "source": [
    "#Or we can compile a 'clean' list of words that appear\n",
    "allwordsclean = []\n",
    "allwordsbad = []\n",
    "for i in allwordslist:\n",
    "    try:\n",
    "        #this won't work if it's a word like 'and'\n",
    "        test = wn.synset(i+'.n.01')\n",
    "        allwordsclean.append(i)\n",
    "    except:\n",
    "        #print(\"not in corpus\")\n",
    "        allwordsbad.append(i)\n",
    "print(len(allwordsclean))\n",
    "print(len(allwordsbad))\n"
   ]
  },
  {
   "cell_type": "markdown",
   "metadata": {},
   "source": [
    "Now let's see some of the problematic words..."
   ]
  },
  {
   "cell_type": "code",
   "execution_count": 94,
   "metadata": {
    "collapsed": false
   },
   "outputs": [
    {
     "name": "stdout",
     "output_type": "stream",
     "text": [
      "['and', 'of', 'kings', 'new', 'hounds', 'sports', 'golden', 'horses', 'wheatsheaf', 'olde']\n"
     ]
    }
   ],
   "source": [
    "print(allwordsbad[:10])"
   ]
  },
  {
   "cell_type": "markdown",
   "metadata": {},
   "source": [
    "Well some of those seem reasonable. Perhaps if we remove the plurals?"
   ]
  },
  {
   "cell_type": "code",
   "execution_count": 105,
   "metadata": {
    "collapsed": false
   },
   "outputs": [
    {
     "name": "stdout",
     "output_type": "stream",
     "text": [
      "nan\n",
      "nan\n",
      "1255\n",
      "['king', 'hound', 'sport', 'horse', 'bell', 'key', 'chequer', 'miner', 'cricketer', 'mason']\n"
     ]
    }
   ],
   "source": [
    "#Create 3 empty lists to fill\n",
    "depluralised = []\n",
    "depluralisedbad = []\n",
    "unpluralised = []\n",
    "#Loop through our bad words\n",
    "for i in allwordsbad:\n",
    "    #we add a try here because 'nan' entries cannot be handled with the index\n",
    "    try:\n",
    "        #if the last letter is an s, i.e. it's probably a plural\n",
    "        if i[-1] == \"s\":\n",
    "            #remove that last letter\n",
    "            i = i[0:-1]\n",
    "            #try to run the wordnet function on it\n",
    "            try:\n",
    "                test = wn.synset(i+'.n.01')\n",
    "                #add it to our working list\n",
    "                depluralised.append(i)\n",
    "            except:\n",
    "                #if it still throws an error, add it to the bad list\n",
    "                depluralisedbad.append(i)\n",
    "        else:\n",
    "            #if it doesn't end in an s then add it to the unchanged list\n",
    "            unpluralised.append(i)\n",
    "    except:\n",
    "        print(i)\n",
    "print(len(depluralised))\n",
    "print(depluralised[:10])"
   ]
  },
  {
   "cell_type": "code",
   "execution_count": 106,
   "metadata": {
    "collapsed": false
   },
   "outputs": [
    {
     "name": "stdout",
     "output_type": "stream",
     "text": [
      "1911\n",
      "48986\n"
     ]
    }
   ],
   "source": [
    "#How long are the other lists\n",
    "print(len(depluralisedbad))\n",
    "print(len(unpluralised))"
   ]
  },
  {
   "cell_type": "markdown",
   "metadata": {},
   "source": [
    "Now we can try again with the depluralised list that we know is OK, amending our previous code to incorporate it."
   ]
  },
  {
   "cell_type": "code",
   "execution_count": 131,
   "metadata": {
    "collapsed": false
   },
   "outputs": [
    {
     "name": "stdout",
     "output_type": "stream",
     "text": [
      "We start with a list of  56946\n",
      "Of those these are clean 4792\n",
      "Of those these are bad 52154\n",
      "nan\n",
      "nan\n",
      "Of those these are now clean 6047\n",
      "Of those that were bad 52154\n",
      "Of those these are still bad 3166\n"
     ]
    }
   ],
   "source": [
    "\n",
    "#Or we can compile a 'clean' list of words that appear\n",
    "allwordsclean = []\n",
    "allwordsbad = []\n",
    "print (\"We start with a list of \",len(allwordslist))\n",
    "for i in allwordslist:\n",
    "    try:\n",
    "        #this won't work if it's a word like 'and'\n",
    "        test = wn.synset(i+'.n.01')\n",
    "        allwordsclean.append(i)\n",
    "    except:\n",
    "        allwordsbad.append(i)\n",
    "print(\"Of those these are clean\",len(allwordsclean))\n",
    "print(\"Of those these are bad\",len(allwordsbad))\n",
    "#create a new empty list\n",
    "allwordsstillbad = []\n",
    "for i in allwordsbad:\n",
    "    try:\n",
    "        if i[-1] == \"s\":\n",
    "            #remove that last letter\n",
    "            i = i[0:-1]\n",
    "            #try to run the wordnet function on it\n",
    "            try:\n",
    "                test = wn.synset(i+'.n.01')\n",
    "                #add it to our working list\n",
    "                allwordsclean.append(i)\n",
    "                #Remove it from the bad\n",
    "                allwordsbad.remove(i)\n",
    "            except:\n",
    "                #if it still throws an error, add it to the 'still bad' list\n",
    "                allwordsstillbad.append(i)\n",
    "        #else:\n",
    "            #We could always store something\n",
    "    except:\n",
    "        print(i)\n",
    "print(\"Of those these are now clean\",len(allwordsclean))\n",
    "print(\"Of those that were bad\",len(allwordsbad))\n",
    "print(\"Of those these are still bad\",len(allwordsstillbad))"
   ]
  },
  {
   "cell_type": "code",
   "execution_count": 132,
   "metadata": {
    "collapsed": false
   },
   "outputs": [
    {
     "name": "stdout",
     "output_type": "stream",
     "text": [
      "['and', 'of', 'kings', 'new', 'hounds', 'sports', 'golden', 'horses', 'wheatsheaf', 'olde']\n",
      "['king', 'hound', 'sport', 'horse', \"queen'\", 'bell', 'key', 'chequer', 'miner', \"nag'\"]\n"
     ]
    }
   ],
   "source": [
    "print(allwordsbad[:10])\n",
    "print(allwordsstillbad[:10])"
   ]
  },
  {
   "cell_type": "markdown",
   "metadata": {},
   "source": [
    "We can see that some of those which had an s removed, now end in an apostrophe. Let's factor that into the code:"
   ]
  },
  {
   "cell_type": "code",
   "execution_count": 133,
   "metadata": {
    "collapsed": false
   },
   "outputs": [
    {
     "name": "stdout",
     "output_type": "stream",
     "text": [
      "We start with a list of  56946\n",
      "Of those these are clean 4792\n",
      "Of those these are bad 52154\n",
      "nan\n",
      "nan\n",
      "Of those these are now clean 6367\n",
      "Of those that were bad 52154\n",
      "Of those these are still bad 3166\n"
     ]
    }
   ],
   "source": [
    "\n",
    "#Or we can compile a 'clean' list of words that appear\n",
    "allwordsclean = []\n",
    "allwordsbad = []\n",
    "print (\"We start with a list of \",len(allwordslist))\n",
    "for i in allwordslist:\n",
    "    try:\n",
    "        #this won't work if it's a word like 'and'\n",
    "        test = wn.synset(i+'.n.01')\n",
    "        allwordsclean.append(i)\n",
    "    except:\n",
    "        allwordsbad.append(i)\n",
    "print(\"Of those these are clean\",len(allwordsclean))\n",
    "print(\"Of those these are bad\",len(allwordsbad))\n",
    "#create a new empty list\n",
    "allwordsstillbad = []\n",
    "for i in allwordsbad:\n",
    "    try:\n",
    "        if i[-1] == \"s\":\n",
    "            #remove that last letter\n",
    "            i = i[0:-1]\n",
    "            #try to run the wordnet function on it\n",
    "            try:\n",
    "                test = wn.synset(i+'.n.01')\n",
    "                #add it to our working list\n",
    "                allwordsclean.append(i)\n",
    "                #Remove it from the bad\n",
    "                allwordsbad.remove(i)\n",
    "            except:\n",
    "                #if it still throws an error, try removing an apostrophe:\n",
    "                if i[-1] == \"'\":\n",
    "                    i = i[0:-1]\n",
    "                    try:\n",
    "                        test = wn.synset(i+'.n.01')\n",
    "                        #add it to our working list\n",
    "                        allwordsclean.append(i)\n",
    "                        #Remove it from the bad\n",
    "                        allwordsbad.remove(i)\n",
    "                    except:\n",
    "                        allwordsstillbad.append(i)\n",
    "                else:\n",
    "                    #add it to the 'still bad' list\n",
    "                    allwordsstillbad.append(i)\n",
    "        #else:\n",
    "            #We could always store something\n",
    "    except:\n",
    "        print(i)\n",
    "print(\"Of those these are now clean\",len(allwordsclean))\n",
    "print(\"Of those that were bad\",len(allwordsbad))\n",
    "print(\"Of those these are still bad\",len(allwordsstillbad))"
   ]
  },
  {
   "cell_type": "code",
   "execution_count": 137,
   "metadata": {
    "collapsed": false
   },
   "outputs": [
    {
     "name": "stdout",
     "output_type": "stream",
     "text": [
      "['and', 'of', 'kings', 'new', 'hounds', 'sports', 'golden', 'horses', 'wheatsheaf', 'olde']\n",
      "['king', 'hound', 'sport', 'horse', 'queen', 'bell', 'key', 'chequer', 'miner', 'nag']\n",
      "['arms', 'white', 'lion', 'head', 'house', 'crown', 'horse', 'old', 'red', 'royal']\n"
     ]
    }
   ],
   "source": [
    "print(allwordsbad[:10])\n",
    "print(allwordsstillbad[:10])\n",
    "print(allwordsclean[:10])"
   ]
  },
  {
   "cell_type": "code",
   "execution_count": 139,
   "metadata": {
    "collapsed": false
   },
   "outputs": [
    {
     "data": {
      "text/plain": [
       "Synset('queen.n.01')"
      ]
     },
     "execution_count": 139,
     "metadata": {},
     "output_type": "execute_result"
    }
   ],
   "source": [
    "#test one of the bad words\n",
    "wn.synset('queen'+'.n.01')"
   ]
  },
  {
   "cell_type": "markdown",
   "metadata": {},
   "source": [
    "This seems to work fine, so it's not clear why this has been stored in the 'still bad' list. Anywy, we have over 6,000 clean words so let's move on and return to this later.\n",
    "\n",
    "## Checking the closest match in our seed list\n",
    "\n",
    "We now need to find the strongest match for each of those 6,000 words in the seed list. Let's start with a test run."
   ]
  },
  {
   "cell_type": "code",
   "execution_count": 184,
   "metadata": {
    "collapsed": false
   },
   "outputs": [
    {
     "name": "stdout",
     "output_type": "stream",
     "text": [
      "MATCHING arms\n",
      "highest match 0.4444444444444444 Butcher\n",
      "0    trade\n",
      "Name: category, dtype: object\n",
      "highest match 0.47058823529411764 Saddler\n",
      "2    trade\n",
      "Name: category, dtype: object\n",
      "highest match 0.47058823529411764 Fisher\n",
      "3         trade\n",
      "125    nautical\n",
      "Name: category, dtype: object\n",
      "highest match 0.5 Farmer\n",
      "7    trade\n",
      "Name: category, dtype: object\n",
      "highest match 0.8 Blower\n",
      "12    trade\n",
      "Name: category, dtype: object\n",
      "error with arms Nailor\n",
      "error with arms Chemic\n",
      "error with arms Drayman\n",
      "error with arms Caulker\n",
      "error with arms Postie\n",
      "error with arms Moulder\n",
      "error with arms Merry\n",
      "error with arms Great Northern\n",
      "error with arms Halfway\n",
      "error with arms Great Eastern\n",
      "error with arms Great Western\n",
      "error with arms Great Southern\n",
      "error with arms Great Western\n",
      "highest match 0.8 Oar\n",
      "150    nautical\n",
      "Name: category, dtype: object\n",
      "highest match 0.875 Shell\n",
      "161    nautical\n",
      "Name: category, dtype: object\n",
      "error with arms Mice\n",
      "error with arms Tuns\n",
      "error with arms Last order\n",
      "error with arms haus\n",
      "error with arms huis\n",
      "error with arms brau\n",
      "error with arms Golden Goose\n",
      "error with arms Golden Fleece\n",
      "error with arms Golden Egg\n",
      "error with arms Robin Hood\n",
      "error with arms Green man\n",
      "error with arms Black Dog\n",
      "error with arms Lady in the Lake\n",
      "error with arms Moonraker\n",
      "error with arms Maid Marian\n",
      "error with arms Friar Tuck\n",
      "error with arms Golden Egg\n",
      "error with arms Lady in the lake\n",
      "error with arms Alma\n",
      "error with arms Engineers\n",
      "error with arms Mounted\n",
      "error with arms White Hart\n",
      "error with arms Horns\n",
      "error with arms Rising Sun\n",
      "highest match 1.0 Arms\n",
      "405    heraldry\n",
      "Name: category, dtype: object\n",
      "error with arms Three Feathers\n",
      "error with arms White Lion\n",
      "error with arms Red Lion\n",
      "error with arms White Rose\n",
      "error with arms Red Dragon\n",
      "error with arms Red Rose\n",
      "error with arms Bear and Ragged Staff\n",
      "error with arms Olde Man and Scythe\n",
      "error with arms Black Griffin\n",
      "error with arms Old Black Lion\n",
      "error with arms Blue Boar\n",
      "error with arms Chequers\n",
      "error with arms Eagle and Child\n",
      "error with arms White Bear\n",
      "error with arms Spread Eagle\n",
      "error with arms Elephant and Castle\n",
      "error with arms Red Dragon\n",
      "error with arms White Horse\n",
      "error with arms St James\n",
      "error with arms Cross Keys\n",
      "error with arms St Peter\n",
      "error with arms St Paul\n",
      "error with arms St George\n",
      "error with arms Adam And Eve\n",
      "error with arms Lourdes\n",
      "error with arms Dog and Duck\n",
      "error with arms Bull and Dog\n",
      "{'arms': 'Wicket'}\n",
      "arms    Wicket\n",
      "dtype: object\n",
      "MATCHING white\n",
      "highest match 0.631578947368421 Butcher\n",
      "0    trade\n",
      "Name: category, dtype: object\n",
      "highest match 0.6666666666666666 Saddler\n",
      "2    trade\n",
      "Name: category, dtype: object\n",
      "highest match 0.6666666666666666 Fisher\n",
      "3         trade\n",
      "125    nautical\n",
      "Name: category, dtype: object\n",
      "highest match 0.7058823529411765 Farmer\n",
      "7    trade\n",
      "Name: category, dtype: object\n",
      "highest match 0.7058823529411765 Waterman\n",
      "24    trade\n",
      "83    trade\n",
      "Name: category, dtype: object\n",
      "error with white Nailor\n",
      "error with white Chemic\n",
      "highest match 0.7058823529411765 Maker\n",
      "41    trade\n",
      "Name: category, dtype: object\n",
      "highest match 0.75 Advocate\n",
      "42    trade\n",
      "Name: category, dtype: object\n",
      "error with white Drayman\n",
      "error with white Caulker\n",
      "error with white Postie\n",
      "error with white Moulder\n",
      "error with white Merry\n",
      "error with white Great Northern\n",
      "error with white Halfway\n",
      "error with white Great Eastern\n",
      "error with white Great Western\n",
      "error with white Great Southern\n",
      "error with white Great Western\n",
      "highest match 0.75 Tiger\n",
      "181    animals\n",
      "Name: category, dtype: object\n",
      "highest match 0.75 Ostrich\n",
      "215    animals\n",
      "Name: category, dtype: object\n",
      "error with white Mice\n",
      "error with white Tuns\n",
      "error with white Last order\n",
      "error with white haus\n",
      "error with white huis\n",
      "error with white brau\n",
      "highest match 0.75 White\n",
      "308    colours\n",
      "Name: category, dtype: object\n",
      "highest match 0.75 Giant\n",
      "322    myth\n",
      "Name: category, dtype: object\n",
      "error with white Golden Goose\n",
      "error with white Golden Fleece\n",
      "error with white Golden Egg\n",
      "error with white Robin Hood\n",
      "error with white Green man\n",
      "error with white Black Dog\n",
      "error with white Lady in the Lake\n",
      "error with white Moonraker\n",
      "error with white Maid Marian\n",
      "error with white Friar Tuck\n",
      "error with white Golden Egg\n",
      "error with white Lady in the lake\n",
      "error with white Alma\n",
      "error with white Engineers\n",
      "error with white Mounted\n",
      "error with white White Hart\n",
      "error with white Horns\n",
      "error with white Rising Sun\n",
      "error with white Three Feathers\n",
      "error with white White Lion\n",
      "error with white Red Lion\n",
      "error with white White Rose\n",
      "error with white Red Dragon\n",
      "error with white Red Rose\n",
      "error with white Bear and Ragged Staff\n",
      "error with white Olde Man and Scythe\n",
      "error with white Black Griffin\n",
      "error with white Old Black Lion\n",
      "error with white Blue Boar\n",
      "error with white Chequers\n",
      "error with white Eagle and Child\n",
      "error with white White Bear\n",
      "error with white Spread Eagle\n",
      "error with white Elephant and Castle\n",
      "error with white Red Dragon\n",
      "error with white White Horse\n",
      "error with white St James\n",
      "error with white Cross Keys\n",
      "error with white St Peter\n",
      "error with white St Paul\n",
      "error with white St George\n",
      "error with white Adam And Eve\n",
      "error with white Lourdes\n",
      "error with white Dog and Duck\n",
      "error with white Bull and Dog\n",
      "{'white': 'Wicket', 'arms': 'Wicket'}\n",
      "arms     Wicket\n",
      "white    Wicket\n",
      "dtype: object\n",
      "MATCHING lion\n",
      "highest match 0.46153846153846156 Butcher\n",
      "0    trade\n",
      "Name: category, dtype: object\n",
      "highest match 0.48 Saddler\n",
      "2    trade\n",
      "Name: category, dtype: object\n",
      "highest match 0.48 Fisher\n",
      "3         trade\n",
      "125    nautical\n",
      "Name: category, dtype: object\n",
      "highest match 0.5 Farmer\n",
      "7    trade\n",
      "Name: category, dtype: object\n",
      "highest match 0.5 Waterman\n",
      "24    trade\n",
      "83    trade\n",
      "Name: category, dtype: object\n",
      "error with lion Nailor\n",
      "error with lion Chemic\n",
      "highest match 0.5 Maker\n",
      "41    trade\n",
      "Name: category, dtype: object\n",
      "highest match 0.5217391304347826 Advocate\n",
      "42    trade\n",
      "Name: category, dtype: object\n",
      "error with lion Drayman\n",
      "error with lion Caulker\n",
      "error with lion Postie\n",
      "error with lion Moulder\n",
      "error with lion Merry\n",
      "error with lion Great Northern\n",
      "error with lion Halfway\n",
      "error with lion Great Eastern\n",
      "error with lion Great Western\n",
      "error with lion Great Southern\n",
      "error with lion Great Western\n",
      "highest match 0.7586206896551724 Seahorse\n",
      "120    nautical\n",
      "188     animals\n",
      "Name: category, dtype: object\n",
      "highest match 0.7586206896551724 Hare\n",
      "169    animals\n",
      "Name: category, dtype: object\n",
      "highest match 0.8275862068965517 Dog\n",
      "173    animals\n",
      "Name: category, dtype: object\n",
      "highest match 1.0 Lion\n",
      "174    animals\n",
      "Name: category, dtype: object\n",
      "error with lion Mice\n",
      "error with lion Tuns\n",
      "error with lion Last order\n",
      "error with lion haus\n",
      "error with lion huis\n",
      "error with lion brau\n",
      "error with lion Golden Goose\n",
      "error with lion Golden Fleece\n",
      "error with lion Golden Egg\n",
      "error with lion Robin Hood\n",
      "error with lion Green man\n",
      "error with lion Black Dog\n",
      "error with lion Lady in the Lake\n",
      "error with lion Moonraker\n",
      "error with lion Maid Marian\n",
      "error with lion Friar Tuck\n",
      "error with lion Golden Egg\n",
      "error with lion Lady in the lake\n",
      "error with lion Alma\n",
      "error with lion Engineers\n",
      "error with lion Mounted\n",
      "error with lion White Hart\n",
      "error with lion Horns\n",
      "error with lion Rising Sun\n",
      "error with lion Three Feathers\n",
      "error with lion White Lion\n",
      "error with lion Red Lion\n",
      "error with lion White Rose\n",
      "error with lion Red Dragon\n",
      "error with lion Red Rose\n",
      "error with lion Bear and Ragged Staff\n",
      "error with lion Olde Man and Scythe\n",
      "error with lion Black Griffin\n",
      "error with lion Old Black Lion\n",
      "error with lion Blue Boar\n",
      "error with lion Chequers\n",
      "error with lion Eagle and Child\n",
      "error with lion White Bear\n",
      "error with lion Spread Eagle\n",
      "error with lion Elephant and Castle\n",
      "error with lion Red Dragon\n",
      "error with lion White Horse\n",
      "error with lion St James\n",
      "error with lion Cross Keys\n",
      "error with lion St Peter\n",
      "error with lion St Paul\n",
      "error with lion St George\n",
      "error with lion Adam And Eve\n",
      "error with lion Lourdes\n",
      "error with lion Dog and Duck\n",
      "error with lion Bull and Dog\n",
      "{'white': 'Wicket', 'lion': 'Wicket', 'arms': 'Wicket'}\n",
      "arms     Wicket\n",
      "lion     Wicket\n",
      "white    Wicket\n",
      "dtype: object\n",
      "MATCHING head\n",
      "highest match 0.26666666666666666 Butcher\n",
      "0    trade\n",
      "Name: category, dtype: object\n",
      "highest match 0.2857142857142857 Saddler\n",
      "2    trade\n",
      "Name: category, dtype: object\n",
      "highest match 0.2857142857142857 Fisher\n",
      "3         trade\n",
      "125    nautical\n",
      "Name: category, dtype: object\n",
      "highest match 0.3076923076923077 Farmer\n",
      "7    trade\n",
      "Name: category, dtype: object\n",
      "highest match 0.3076923076923077 Waterman\n",
      "24    trade\n",
      "83    trade\n",
      "Name: category, dtype: object\n",
      "error with head Nailor\n",
      "error with head Chemic\n",
      "highest match 0.3076923076923077 Bank\n",
      "39    trade\n",
      "Name: category, dtype: object\n",
      "highest match 0.3076923076923077 Maker\n",
      "41    trade\n",
      "Name: category, dtype: object\n",
      "highest match 0.3333333333333333 Advocate\n",
      "42    trade\n",
      "Name: category, dtype: object\n",
      "error with head Drayman\n",
      "error with head Caulker\n",
      "error with head Postie\n",
      "error with head Moulder\n",
      "error with head Merry\n",
      "error with head Great Northern\n",
      "error with head Halfway\n",
      "error with head Great Eastern\n",
      "error with head Great Western\n",
      "error with head Great Southern\n",
      "error with head Great Western\n",
      "highest match 0.3333333333333333 Beach\n",
      "129    nautical\n",
      "Name: category, dtype: object\n",
      "highest match 0.5 Bay\n",
      "147    nautical\n",
      "Name: category, dtype: object\n",
      "highest match 0.5 Sea\n",
      "153    nautical\n",
      "Name: category, dtype: object\n",
      "highest match 0.625 Craw\n",
      "227    animals\n",
      "Name: category, dtype: object\n",
      "error with head Mice\n",
      "highest match 0.625 Cock\n",
      "244     animals\n",
      "473    sporting\n",
      "Name: category, dtype: object\n",
      "error with head Tuns\n",
      "error with head Last order\n",
      "error with head haus\n",
      "error with head huis\n",
      "error with head brau\n",
      "error with head Golden Goose\n",
      "error with head Golden Fleece\n",
      "error with head Golden Egg\n",
      "error with head Robin Hood\n",
      "error with head Green man\n",
      "error with head Black Dog\n",
      "error with head Lady in the Lake\n",
      "error with head Moonraker\n",
      "error with head Maid Marian\n",
      "error with head Friar Tuck\n",
      "error with head Golden Egg\n",
      "error with head Lady in the lake\n",
      "error with head Alma\n",
      "error with head Engineers\n",
      "error with head Mounted\n",
      "error with head White Hart\n",
      "error with head Horns\n",
      "error with head Rising Sun\n",
      "error with head Three Feathers\n",
      "error with head White Lion\n",
      "error with head Red Lion\n",
      "error with head White Rose\n",
      "error with head Red Dragon\n",
      "error with head Red Rose\n",
      "error with head Bear and Ragged Staff\n",
      "error with head Olde Man and Scythe\n",
      "error with head Black Griffin\n",
      "error with head Old Black Lion\n",
      "error with head Blue Boar\n",
      "error with head Chequers\n",
      "error with head Eagle and Child\n",
      "error with head White Bear\n",
      "error with head Spread Eagle\n",
      "error with head Elephant and Castle\n",
      "error with head Red Dragon\n",
      "error with head White Horse\n",
      "error with head St James\n",
      "error with head Cross Keys\n",
      "error with head St Peter\n",
      "error with head St Paul\n",
      "error with head St George\n",
      "error with head Adam And Eve\n",
      "error with head Lourdes\n",
      "highest match 0.625 Cock\n",
      "244     animals\n",
      "473    sporting\n",
      "Name: category, dtype: object\n",
      "error with head Dog and Duck\n",
      "error with head Bull and Dog\n",
      "{'white': 'Wicket', 'lion': 'Wicket', 'head': 'Wicket', 'arms': 'Wicket'}\n",
      "arms     Wicket\n",
      "head     Wicket\n",
      "lion     Wicket\n",
      "white    Wicket\n",
      "dtype: object\n",
      "MATCHING house\n",
      "highest match 0.42105263157894735 Butcher\n",
      "0    trade\n",
      "Name: category, dtype: object\n",
      "highest match 0.4444444444444444 Saddler\n",
      "2    trade\n",
      "Name: category, dtype: object\n",
      "highest match 0.4444444444444444 Fisher\n",
      "3         trade\n",
      "125    nautical\n",
      "Name: category, dtype: object\n",
      "highest match 0.47058823529411764 Farmer\n",
      "7    trade\n",
      "Name: category, dtype: object\n",
      "highest match 0.625 Blower\n",
      "12    trade\n",
      "Name: category, dtype: object\n",
      "highest match 0.6666666666666666 Foundry\n",
      "16    trade\n",
      "Name: category, dtype: object\n",
      "highest match 0.7058823529411765 Mill\n",
      "17    trade\n",
      "Name: category, dtype: object\n",
      "error with house Nailor\n",
      "error with house Chemic\n",
      "highest match 0.7058823529411765 Office\n",
      "64    trade\n",
      "Name: category, dtype: object\n",
      "error with house Drayman\n",
      "error with house Caulker\n",
      "error with house Postie\n",
      "error with house Moulder\n",
      "error with house Merry\n",
      "error with house Great Northern\n",
      "error with house Halfway\n",
      "highest match 0.8 Bridge\n",
      "101    travel\n",
      "Name: category, dtype: object\n",
      "highest match 0.8235294117647058 Stable\n",
      "108    travel\n",
      "Name: category, dtype: object\n",
      "error with house Great Eastern\n",
      "error with house Great Western\n",
      "error with house Great Southern\n",
      "error with house Great Western\n",
      "error with house Mice\n",
      "error with house Tuns\n",
      "error with house Last order\n",
      "error with house haus\n",
      "error with house huis\n",
      "error with house brau\n",
      "error with house Golden Goose\n",
      "error with house Golden Fleece\n",
      "error with house Golden Egg\n",
      "error with house Robin Hood\n",
      "error with house Green man\n",
      "error with house Black Dog\n",
      "error with house Lady in the Lake\n",
      "error with house Moonraker\n",
      "error with house Maid Marian\n",
      "error with house Friar Tuck\n",
      "error with house Golden Egg\n",
      "error with house Lady in the lake\n",
      "error with house Alma\n",
      "error with house Engineers\n",
      "error with house Mounted\n",
      "error with house White Hart\n",
      "error with house Horns\n",
      "error with house Rising Sun\n",
      "error with house Three Feathers\n",
      "error with house White Lion\n",
      "error with house Red Lion\n",
      "error with house White Rose\n",
      "error with house Red Dragon\n",
      "error with house Red Rose\n",
      "error with house Bear and Ragged Staff\n",
      "error with house Olde Man and Scythe\n",
      "error with house Black Griffin\n",
      "error with house Old Black Lion\n",
      "error with house Blue Boar\n",
      "error with house Chequers\n",
      "error with house Eagle and Child\n",
      "error with house White Bear\n",
      "error with house Spread Eagle\n",
      "error with house Elephant and Castle\n",
      "error with house Red Dragon\n",
      "error with house White Horse\n",
      "error with house St James\n",
      "error with house Cross Keys\n",
      "error with house St Peter\n",
      "error with house St Paul\n",
      "error with house St George\n",
      "error with house Adam And Eve\n",
      "error with house Lourdes\n",
      "error with house Dog and Duck\n",
      "error with house Bull and Dog\n",
      "{'house': 'Wicket', 'white': 'Wicket', 'lion': 'Wicket', 'head': 'Wicket', 'arms': 'Wicket'}\n",
      "arms     Wicket\n",
      "head     Wicket\n",
      "house    Wicket\n",
      "lion     Wicket\n",
      "white    Wicket\n",
      "dtype: object\n"
     ]
    }
   ],
   "source": [
    "resultsdict = {}\n",
    "keywordcolumn = []\n",
    "matchingcolumn = []\n",
    "catcolumn = []\n",
    "for i in allwordsclean[:5]:\n",
    "    print(\"MATCHING\",i)\n",
    "    matchscores = []\n",
    "    #Now loop through each category list\n",
    "    for keyword in keywords.keyword:\n",
    "        try:\n",
    "            matchscore = wn.synset(i+'.n.01').wup_similarity(wn.synset(keyword+'.n.01'))\n",
    "            matchscores.append(matchscore)\n",
    "            if max(matchscores) == matchscore:\n",
    "                print(\"highest match\", max(matchscores), keyword)\n",
    "                print(keywords[keywords.keyword == keyword].category)\n",
    "            resultsdict[i] = keyword\n",
    "            keywordcolumn.append(keyword)\n",
    "            matchingcolumn.append(i)\n",
    "            catcolumn.append(keywords[keywords.keyword == keyword].category)\n",
    "                #finalpair = i,keyword\n",
    "        except:\n",
    "            print (\"error with\", i, keyword)\n",
    "    print(resultsdict)\n",
    "    print(pandas.Series(resultsdict))"
   ]
  },
  {
   "cell_type": "markdown",
   "metadata": {},
   "source": [
    "Of course the examples we had include a lot of multi-word names that throw an error.\n",
    "\n",
    "We could try to match on the category term, but that doesn't seem so helpful:"
   ]
  },
  {
   "cell_type": "code",
   "execution_count": 166,
   "metadata": {
    "collapsed": false
   },
   "outputs": [
    {
     "name": "stdout",
     "output_type": "stream",
     "text": [
      "0.4\n",
      "0.6363636363636364\n",
      "0.13333333333333333\n"
     ]
    }
   ],
   "source": [
    "print(wn.synset('queen'+'.n.01').wup_similarity(wn.synset('royal'+'.n.01')))\n",
    "print(wn.synset('lion'+'.n.01').wup_similarity(wn.synset('animal'+'.n.01')))\n",
    "print(wn.synset('fisher'+'.n.01').wup_similarity(wn.synset('trade'+'.n.01')))"
   ]
  },
  {
   "cell_type": "code",
   "execution_count": 213,
   "metadata": {
    "collapsed": false
   },
   "outputs": [
    {
     "name": "stdout",
     "output_type": "stream",
     "text": [
      "    0\n",
      "0   1\n",
      "1   2\n",
      "2  10\n",
      "    0  otherdata\n",
      "0   1          7\n",
      "1   2          9\n",
      "2  10         15\n",
      "2075\n",
      "2075\n",
      "2075\n",
      "               0 matching                                                cat\n",
      "0        Butcher     arms           0    trade\n",
      "Name: category, dtype: object\n",
      "1      Ploughman     arms           1    trade\n",
      "Name: category, dtype: object\n",
      "2        Saddler     arms           2    trade\n",
      "Name: category, dtype: object\n",
      "3         Fisher     arms  3         trade\n",
      "125    nautical\n",
      "Name: category...\n",
      "4          Baker     arms           4    trade\n",
      "Name: category, dtype: object\n",
      "5       Fletcher     arms           5    trade\n",
      "Name: category, dtype: object\n",
      "6     Bricklayer     arms           6    trade\n",
      "Name: category, dtype: object\n",
      "7         Farmer     arms           7    trade\n",
      "Name: category, dtype: object\n",
      "8         Brewer     arms           8    trade\n",
      "Name: category, dtype: object\n",
      "9       Shepherd     arms  9     trade\n",
      "65    trade\n",
      "Name: category, dtype:...\n",
      "10         Smith     arms          10    trade\n",
      "Name: category, dtype: object\n",
      "11       Farrier     arms          11    trade\n",
      "Name: category, dtype: object\n",
      "12        Blower     arms          12    trade\n",
      "Name: category, dtype: object\n",
      "13       Cobbler     arms          13    trade\n",
      "Name: category, dtype: object\n",
      "14         Mason     arms          14    trade\n",
      "Name: category, dtype: object\n",
      "15        Plough     arms          15    trade\n",
      "Name: category, dtype: object\n",
      "16       Foundry     arms          16    trade\n",
      "Name: category, dtype: object\n",
      "17          Mill     arms          17    trade\n",
      "Name: category, dtype: object\n",
      "18         Sweep     arms          18    trade\n",
      "Name: category, dtype: object\n",
      "19        Fleece     arms          19    trade\n",
      "Name: category, dtype: object\n",
      "20       Plumber     arms          20    trade\n",
      "Name: category, dtype: object\n",
      "21      Mechanic     arms          21    trade\n",
      "Name: category, dtype: object\n",
      "22     Carpenter     arms          22    trade\n",
      "Name: category, dtype: object\n",
      "23        Tailor     arms          23    trade\n",
      "Name: category, dtype: object\n",
      "24      Waterman     arms  24    trade\n",
      "83    trade\n",
      "Name: category, dtype:...\n",
      "25          Wool     arms          26    trade\n",
      "Name: category, dtype: object\n",
      "26        Tapper     arms          27    trade\n",
      "Name: category, dtype: object\n",
      "27      Forester     arms          28    trade\n",
      "Name: category, dtype: object\n",
      "28        Beggar     arms          29    trade\n",
      "Name: category, dtype: object\n",
      "29        Chisel     arms          30    trade\n",
      "Name: category, dtype: object\n",
      "...          ...      ...                                                ...\n",
      "2045  Corinthian    house     446    religious\n",
      "Name: category, dtype: object\n",
      "2046      Martyr    house     447    religious\n",
      "Name: category, dtype: object\n",
      "2047        Font    house     448    religious\n",
      "Name: category, dtype: object\n",
      "2048     Steeple    house     449    religious\n",
      "Name: category, dtype: object\n",
      "2049        Pope    house     450    religious\n",
      "Name: category, dtype: object\n",
      "2050        Hope    house     451    religious\n",
      "Name: category, dtype: object\n",
      "2051         Pew    house  452    religious\n",
      "464    religious\n",
      "Name: catego...\n",
      "2052        Holy    house     453    religious\n",
      "Name: category, dtype: object\n",
      "2053       Devil    house     454    religious\n",
      "Name: category, dtype: object\n",
      "2054       Satan    house     455    religious\n",
      "Name: category, dtype: object\n",
      "2055    Solstice    house     456    religious\n",
      "Name: category, dtype: object\n",
      "2056       Pagan    house     457    religious\n",
      "Name: category, dtype: object\n",
      "2057      Heaven    house     458    religious\n",
      "Name: category, dtype: object\n",
      "2058        Hell    house     459    religious\n",
      "Name: category, dtype: object\n",
      "2059       Abbot    house  427    religious\n",
      "461    religious\n",
      "Name: catego...\n",
      "2060    Cardinal    house     462    religious\n",
      "Name: category, dtype: object\n",
      "2061       Saint    house  436    religious\n",
      "463    religious\n",
      "Name: catego...\n",
      "2062         Pew    house  452    religious\n",
      "464    religious\n",
      "Name: catego...\n",
      "2063       Sport    house      465    sporting\n",
      "Name: category, dtype: object\n",
      "2064      Angler    house      466    sporting\n",
      "Name: category, dtype: object\n",
      "2065        Hero    house  341        myth\n",
      "385    military\n",
      "467    sportin...\n",
      "2066        Bear    house  199     animals\n",
      "468    sporting\n",
      "Name: category...\n",
      "2067     Cricket    house      469    sporting\n",
      "Name: category, dtype: object\n",
      "2068        Hunt    house      470    sporting\n",
      "Name: category, dtype: object\n",
      "2069      Jockey    house      471    sporting\n",
      "Name: category, dtype: object\n",
      "2070        Ball    house      472    sporting\n",
      "Name: category, dtype: object\n",
      "2071        Cock    house  244     animals\n",
      "473    sporting\n",
      "Name: category...\n",
      "2072         Bat    house      474    sporting\n",
      "Name: category, dtype: object\n",
      "2073    Wrestler    house      477    sporting\n",
      "Name: category, dtype: object\n",
      "2074      Wicket    house      478    sporting\n",
      "Name: category, dtype: object\n",
      "\n",
      "[2075 rows x 3 columns]\n"
     ]
    }
   ],
   "source": [
    "mydata = [1,2,10]\n",
    "df = pandas.DataFrame(mydata)\n",
    "print(df)\n",
    "otherdata = [7,9,15]\n",
    "otherdataseries = pandas.Series(otherdata)\n",
    "df['otherdata'] = otherdataseries.values\n",
    "print (df)\n",
    "\n",
    "matchingtable = pandas.DataFrame(keywordcolumn)\n",
    "print(len(keywordcolumn))\n",
    "print(len(matchingcolumn))\n",
    "matchingcolumnseries = pandas.Series(matchingcolumn)\n",
    "print(len(matchingcolumnseries))\n",
    "matchingtable['matching'] = matchingcolumnseries\n",
    "#print(matchingtable)\n",
    "catcolseries = pandas.Series(catcolumn)\n",
    "matchingtable['cat'] = catcolseries\n",
    "print(matchingtable)"
   ]
  },
  {
   "cell_type": "code",
   "execution_count": 206,
   "metadata": {
    "collapsed": false
   },
   "outputs": [
    {
     "data": {
      "text/plain": [
       "{'arms': 'Wicket',\n",
       " 'head': 'Wicket',\n",
       " 'house': 'Wicket',\n",
       " 'lion': 'Wicket',\n",
       " 'white': 'Wicket'}"
      ]
     },
     "execution_count": 206,
     "metadata": {},
     "output_type": "execute_result"
    }
   ],
   "source": [
    "resultsdict"
   ]
  },
  {
   "cell_type": "code",
   "execution_count": null,
   "metadata": {
    "collapsed": true
   },
   "outputs": [],
   "source": []
  }
 ],
 "metadata": {
  "anaconda-cloud": {},
  "kernelspec": {
   "display_name": "Python [conda env:anaconda]",
   "language": "python",
   "name": "conda-env-anaconda-py"
  },
  "language_info": {
   "codemirror_mode": {
    "name": "ipython",
    "version": 3
   },
   "file_extension": ".py",
   "mimetype": "text/x-python",
   "name": "python",
   "nbconvert_exporter": "python",
   "pygments_lexer": "ipython3",
   "version": "3.5.4"
  }
 },
 "nbformat": 4,
 "nbformat_minor": 1
}
