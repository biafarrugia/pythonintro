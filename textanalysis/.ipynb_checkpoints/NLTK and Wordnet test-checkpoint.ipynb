{
 "cells": [
  {
   "cell_type": "markdown",
   "metadata": {},
   "source": [
    "# Using NLTK\n",
    "\n",
    "This Python notebook details the process of exploring Python's `NLTK` library - most of the steps are from the [NLTK book](http://www.nltk.org/book/ch01.html). Other resources include:\n",
    "\n",
    "* [Text classification with NLTK](https://pythonprogramming.net/text-classification-nltk-tutorial/)\n",
    "* [WordNet search](http://wordnetweb.princeton.edu/perl/webwn) - this allows you to manually search for words in the WordNet corpus and see the relationships\n",
    "* [WordNet Interface documentation](http://www.nltk.org/howto/wordnet.html)\n",
    "* [Tutorial: What is WordNet? A Conceptual Introduction Using Python](https://stevenloria.com/wordnet-tutorial/)\n",
    "* Stackoverflow threads, such as [this one on finding word categories](https://stackoverflow.com/questions/24195854/finding-category-for-words) - note that sometimes answers can be outdated as new versions of NLTK no longer perform in the same way - read the comments and look for more recent answers.\n",
    "\n",
    "## Importing the NLTK library\n",
    "\n",
    "Let's get started. First, import the library"
   ]
  },
  {
   "cell_type": "code",
   "execution_count": 2,
   "metadata": {
    "collapsed": true
   },
   "outputs": [],
   "source": [
    "import nltk"
   ]
  },
  {
   "cell_type": "markdown",
   "metadata": {},
   "source": [
    "This next line opens up a window where you can download relevant data. It will by default choose your default user account directory (e.g. Users/paul). Leave this as it is, as the code later will assume it is in this place.\n",
    "\n",
    "Download the 'book' line *only*.\n",
    "\n",
    "Make sure you close the window once the download has finished, which will signal that the line has finished executing."
   ]
  },
  {
   "cell_type": "code",
   "execution_count": 3,
   "metadata": {
    "collapsed": false
   },
   "outputs": [
    {
     "name": "stdout",
     "output_type": "stream",
     "text": [
      "showing info https://raw.githubusercontent.com/nltk/nltk_data/gh-pages/index.xml\n"
     ]
    },
    {
     "data": {
      "text/plain": [
       "True"
      ]
     },
     "execution_count": 3,
     "metadata": {},
     "output_type": "execute_result"
    }
   ],
   "source": [
    "nltk.download()"
   ]
  },
  {
   "cell_type": "markdown",
   "metadata": {},
   "source": [
    "Now we import the books. It will look in the Gutenberg folder in the folders that we've just downloaded."
   ]
  },
  {
   "cell_type": "code",
   "execution_count": 2,
   "metadata": {
    "collapsed": false
   },
   "outputs": [
    {
     "name": "stdout",
     "output_type": "stream",
     "text": [
      "*** Introductory Examples for the NLTK Book ***\n",
      "Loading text1, ..., text9 and sent1, ..., sent9\n",
      "Type the name of the text or sentence to view it.\n",
      "Type: 'texts()' or 'sents()' to list the materials.\n",
      "text1: Moby Dick by Herman Melville 1851\n",
      "text2: Sense and Sensibility by Jane Austen 1811\n",
      "text3: The Book of Genesis\n",
      "text4: Inaugural Address Corpus\n",
      "text5: Chat Corpus\n",
      "text6: Monty Python and the Holy Grail\n",
      "text7: Wall Street Journal\n",
      "text8: Personals Corpus\n",
      "text9: The Man Who Was Thursday by G . K . Chesterton 1908\n"
     ]
    }
   ],
   "source": [
    "from nltk.book import *"
   ]
  },
  {
   "cell_type": "code",
   "execution_count": 3,
   "metadata": {
    "collapsed": false
   },
   "outputs": [
    {
     "name": "stdout",
     "output_type": "stream",
     "text": [
      "text1: Moby Dick by Herman Melville 1851\n",
      "text2: Sense and Sensibility by Jane Austen 1811\n",
      "text3: The Book of Genesis\n",
      "text4: Inaugural Address Corpus\n",
      "text5: Chat Corpus\n",
      "text6: Monty Python and the Holy Grail\n",
      "text7: Wall Street Journal\n",
      "text8: Personals Corpus\n",
      "text9: The Man Who Was Thursday by G . K . Chesterton 1908\n"
     ]
    }
   ],
   "source": [
    "#List the texts\n",
    "texts()"
   ]
  },
  {
   "cell_type": "markdown",
   "metadata": {},
   "source": [
    "Try a few functions..."
   ]
  },
  {
   "cell_type": "code",
   "execution_count": 4,
   "metadata": {
    "collapsed": false
   },
   "outputs": [
    {
     "name": "stdout",
     "output_type": "stream",
     "text": [
      "Displaying 25 of 1226 matches:\n",
      "s , and to teach them by what name a whale - fish is to be called in our tongue\n",
      "t which is not true .\" -- HACKLUYT \" WHALE . ... Sw . and Dan . HVAL . This ani\n",
      "ulted .\" -- WEBSTER ' S DICTIONARY \" WHALE . ... It is more immediately from th\n",
      "ISH . WAL , DUTCH . HWAL , SWEDISH . WHALE , ICELANDIC . WHALE , ENGLISH . BALE\n",
      "HWAL , SWEDISH . WHALE , ICELANDIC . WHALE , ENGLISH . BALEINE , FRENCH . BALLE\n",
      "least , take the higgledy - piggledy whale statements , however authentic , in \n",
      " dreadful gulf of this monster ' s ( whale ' s ) mouth , are immediately lost a\n",
      " patient Job .\" -- RABELAIS . \" This whale ' s liver was two cartloads .\" -- ST\n",
      " Touching that monstrous bulk of the whale or ork we have received nothing cert\n",
      " of oil will be extracted out of one whale .\" -- IBID . \" HISTORY OF LIFE AND D\n",
      "ise .\" -- KING HENRY . \" Very like a whale .\" -- HAMLET . \" Which to secure , n\n",
      "restless paine , Like as the wounded whale to shore flies thro ' the maine .\" -\n",
      ". OF SPERMA CETI AND THE SPERMA CETI WHALE . VIDE HIS V . E . \" Like Spencer ' \n",
      "t had been a sprat in the mouth of a whale .\" -- PILGRIM ' S PROGRESS . \" That \n",
      "EN ' S ANNUS MIRABILIS . \" While the whale is floating at the stern of the ship\n",
      "e ship called The Jonas - in - the - Whale . ... Some say the whale can ' t ope\n",
      " in - the - Whale . ... Some say the whale can ' t open his mouth , but that is\n",
      " masts to see whether they can see a whale , for the first discoverer has a duc\n",
      " for his pains . ... I was told of a whale taken near Shetland , that had above\n",
      "oneers told me that he caught once a whale in Spitzbergen that was white all ov\n",
      "2 , one eighty feet in length of the whale - bone kind came in , which ( as I w\n",
      "n master and kill this Sperma - ceti whale , for I could never hear of any of t\n",
      " . 1729 . \"... and the breath of the whale is frequendy attended with such an i\n",
      "ed with hoops and armed with ribs of whale .\" -- RAPE OF THE LOCK . \" If we com\n",
      "contemptible in the comparison . The whale is doubtless the largest animal in c\n"
     ]
    }
   ],
   "source": [
    "text1.concordance(\"whale\")"
   ]
  },
  {
   "cell_type": "markdown",
   "metadata": {},
   "source": [
    "## Wordnet\n",
    "\n",
    "Let's try some wordnet:"
   ]
  },
  {
   "cell_type": "code",
   "execution_count": 5,
   "metadata": {
    "collapsed": true
   },
   "outputs": [],
   "source": [
    "from nltk.corpus import wordnet as wn"
   ]
  },
  {
   "cell_type": "markdown",
   "metadata": {},
   "source": [
    "This bit comes from [this Stackoverflow post](https://stackoverflow.com/questions/24195854/finding-category-for-words). Theres more about synsets in [this NLTK tutorial](https://pythonprogramming.net/wordnet-nltk-tutorial/):"
   ]
  },
  {
   "cell_type": "code",
   "execution_count": 6,
   "metadata": {
    "collapsed": false
   },
   "outputs": [
    {
     "data": {
      "text/plain": [
       "[Synset('blue.n.01'),\n",
       " Synset('blue.n.02'),\n",
       " Synset('blue.n.03'),\n",
       " Synset('blue_sky.n.01'),\n",
       " Synset('bluing.n.01'),\n",
       " Synset('amobarbital_sodium.n.01'),\n",
       " Synset('blue.n.07'),\n",
       " Synset('blue.v.01'),\n",
       " Synset('blue.s.01'),\n",
       " Synset('blue.s.02'),\n",
       " Synset('gloomy.s.02'),\n",
       " Synset('blasphemous.s.02'),\n",
       " Synset('blue.s.05'),\n",
       " Synset('aristocratic.s.01'),\n",
       " Synset('blue.s.07'),\n",
       " Synset('blue.s.08')]"
      ]
     },
     "execution_count": 6,
     "metadata": {},
     "output_type": "execute_result"
    }
   ],
   "source": [
    "#Show the synonym sets for the string 'blue'\n",
    "wn.synsets('blue')"
   ]
  },
  {
   "cell_type": "code",
   "execution_count": 7,
   "metadata": {
    "collapsed": false
   },
   "outputs": [
    {
     "data": {
      "text/plain": [
       "Synset('cat.n.01')"
      ]
     },
     "execution_count": 7,
     "metadata": {},
     "output_type": "execute_result"
    }
   ],
   "source": [
    "#Show the first synset for 'cat'\n",
    "wn.synsets('cat')[0]"
   ]
  },
  {
   "cell_type": "code",
   "execution_count": 8,
   "metadata": {
    "collapsed": false
   },
   "outputs": [
    {
     "data": {
      "text/plain": [
       "[Synset('carnivore.n.01')]"
      ]
     },
     "execution_count": 8,
     "metadata": {},
     "output_type": "execute_result"
    }
   ],
   "source": [
    "#For that first synset, grab the hypernyms, and for the first result, grab more hypernyms\n",
    "wn.synsets('cat')[0].hypernyms()[0].hypernyms()"
   ]
  },
  {
   "cell_type": "markdown",
   "metadata": {},
   "source": [
    "We can use a loop to [add synonyms and antonyms all together](https://pythonprogramming.net/wordnet-nltk-tutorial/):"
   ]
  },
  {
   "cell_type": "code",
   "execution_count": 9,
   "metadata": {
    "collapsed": false
   },
   "outputs": [
    {
     "name": "stdout",
     "output_type": "stream",
     "text": [
      "{'blazonry', 'arms', 'blazon', 'weapon', 'implements_of_war', 'branch', 'coat_of_arms', 'subdivision', 'weaponry', 'weapon_system', 'sleeve', 'gird', 'arm', 'fortify', 'munition', 'weapons_system', 'limb', 'build_up'}\n",
      "{'disarm'}\n"
     ]
    }
   ],
   "source": [
    "synonyms = []\n",
    "antonyms = []\n",
    "\n",
    "for syn in wordnet.synsets(\"arms\"):\n",
    "    for l in syn.lemmas():\n",
    "        synonyms.append(l.name())\n",
    "        if l.antonyms():\n",
    "            antonyms.append(l.antonyms()[0].name())\n",
    "\n",
    "print(set(synonyms))\n",
    "print(set(antonyms))"
   ]
  },
  {
   "cell_type": "code",
   "execution_count": 10,
   "metadata": {
    "collapsed": false
   },
   "outputs": [
    {
     "name": "stdout",
     "output_type": "stream",
     "text": [
      "Synset('able.a.01')\n",
      "Synset('unable.a.01')\n",
      "Synset('abaxial.a.01')\n",
      "Synset('adaxial.a.01')\n",
      "Synset('acroscopic.a.01')\n",
      "Synset('basiscopic.a.01')\n",
      "Synset('abducent.a.01')\n",
      "Synset('adducent.a.01')\n",
      "Synset('nascent.a.01')\n",
      "Synset('emergent.s.02')\n"
     ]
    }
   ],
   "source": [
    "#The 'v' in this means 'verb' - so this lists all verbs - but limits results up to the 10th item by addings [:10]\n",
    "#Change to 'n' for noun or 'a' for adjective\n",
    "for synset in list(wn.all_synsets('a'))[:10]:\n",
    "    print(synset)"
   ]
  },
  {
   "cell_type": "markdown",
   "metadata": {},
   "source": [
    "### Trying out with pub name words\n",
    "\n",
    "Now let's try a few pub name words copied from the spreadsheet"
   ]
  },
  {
   "cell_type": "code",
   "execution_count": 11,
   "metadata": {
    "collapsed": false
   },
   "outputs": [
    {
     "name": "stdout",
     "output_type": "stream",
     "text": [
      "['arms', 'white', 'lion', 'head', 'house']\n"
     ]
    }
   ],
   "source": [
    "#When copied from Excel there's a carriage return between each item\n",
    "list = '''arms\n",
    "white\n",
    "lion\n",
    "head\n",
    "house'''\n",
    "#We convert to a list by splitting on each new line\n",
    "publist = list.split('\\n')\n",
    "print(publist)"
   ]
  },
  {
   "cell_type": "code",
   "execution_count": 12,
   "metadata": {
    "collapsed": false
   },
   "outputs": [
    {
     "name": "stdout",
     "output_type": "stream",
     "text": [
      "arms\n",
      "weaponry.n.01\n",
      "weapons considered collectively\n",
      "white\n",
      "white.n.01\n",
      "a member of the Caucasoid race\n",
      "lion\n",
      "lion.n.01\n",
      "large gregarious predatory feline of Africa and India having a tawny coat with a shaggy mane in the male\n",
      "head\n",
      "head.n.01\n",
      "the upper part of the human body or the front part of the body in animals; contains the face and brains\n",
      "house\n",
      "house.n.01\n",
      "a dwelling that serves as living quarters for one or more families\n"
     ]
    }
   ],
   "source": [
    "for i in publist:\n",
    "    print(i)\n",
    "    print(wn.synsets(i)[0].name())\n",
    "    print(wn.synsets(i)[0].definition())"
   ]
  },
  {
   "cell_type": "markdown",
   "metadata": {},
   "source": [
    "### Hyponyms and hypernyms\n",
    "\n",
    "What about hyponyms? These are words \"of more specific meaning than a general or superordinate term applicable to it. For example, spoon is a hyponym of cutlery.\"\n",
    "\n",
    "Hypernyms are the synsets that are more *general*"
   ]
  },
  {
   "cell_type": "code",
   "execution_count": 13,
   "metadata": {
    "collapsed": false
   },
   "outputs": [
    {
     "data": {
      "text/plain": [
       "[Synset('ammunition.n.01'),\n",
       " Synset('armament.n.01'),\n",
       " Synset('bomb.n.01'),\n",
       " Synset('defense_system.n.01'),\n",
       " Synset('gunnery.n.01'),\n",
       " Synset('hardware.n.01'),\n",
       " Synset('naval_weaponry.n.01')]"
      ]
     },
     "execution_count": 13,
     "metadata": {},
     "output_type": "execute_result"
    }
   ],
   "source": [
    "wn.synset('arms.n.01').hyponyms()"
   ]
  },
  {
   "cell_type": "code",
   "execution_count": 14,
   "metadata": {
    "collapsed": false
   },
   "outputs": [
    {
     "data": {
      "text/plain": [
       "[Synset('lion_cub.n.01'), Synset('lioness.n.01'), Synset('lionet.n.01')]"
      ]
     },
     "execution_count": 14,
     "metadata": {},
     "output_type": "execute_result"
    }
   ],
   "source": [
    "wn.synset('lion.n.01').hyponyms()"
   ]
  },
  {
   "cell_type": "code",
   "execution_count": 15,
   "metadata": {
    "collapsed": false
   },
   "outputs": [
    {
     "data": {
      "text/plain": [
       "[Synset('big_cat.n.01')]"
      ]
     },
     "execution_count": 15,
     "metadata": {},
     "output_type": "execute_result"
    }
   ],
   "source": [
    "wn.synset('lion.n.01').hypernyms()"
   ]
  },
  {
   "cell_type": "code",
   "execution_count": 16,
   "metadata": {
    "collapsed": false
   },
   "outputs": [
    {
     "data": {
      "text/plain": [
       "[Synset('big_cat.n.01')]"
      ]
     },
     "execution_count": 16,
     "metadata": {},
     "output_type": "execute_result"
    }
   ],
   "source": [
    "#Note that jaguar shares the same hypernym as lion:\n",
    "wn.synset('jaguar.n.01').hypernyms()"
   ]
  },
  {
   "cell_type": "code",
   "execution_count": 17,
   "metadata": {
    "collapsed": false
   },
   "outputs": [
    {
     "data": {
      "text/plain": [
       "[Synset('instrumentality.n.03')]"
      ]
     },
     "execution_count": 17,
     "metadata": {},
     "output_type": "execute_result"
    }
   ],
   "source": [
    "wn.synset('arms.n.01').hypernyms()"
   ]
  },
  {
   "cell_type": "markdown",
   "metadata": {},
   "source": [
    "Perhaps we can use hyponyms to work downwards from 'animal' and grab them all?"
   ]
  },
  {
   "cell_type": "code",
   "execution_count": 18,
   "metadata": {
    "collapsed": false
   },
   "outputs": [
    {
     "data": {
      "text/plain": [
       "[Synset('acrodont.n.01'),\n",
       " Synset('adult.n.02'),\n",
       " Synset('biped.n.01'),\n",
       " Synset('captive.n.02'),\n",
       " Synset('chordate.n.01'),\n",
       " Synset('creepy-crawly.n.01'),\n",
       " Synset('critter.n.01'),\n",
       " Synset('darter.n.02'),\n",
       " Synset('domestic_animal.n.01'),\n",
       " Synset('embryo.n.02'),\n",
       " Synset('feeder.n.06'),\n",
       " Synset('female.n.01'),\n",
       " Synset('fictional_animal.n.01'),\n",
       " Synset('game.n.04'),\n",
       " Synset('giant.n.01'),\n",
       " Synset('herbivore.n.01'),\n",
       " Synset('hexapod.n.01'),\n",
       " Synset('homeotherm.n.01'),\n",
       " Synset('insectivore.n.02'),\n",
       " Synset('invertebrate.n.01'),\n",
       " Synset('larva.n.01'),\n",
       " Synset('male.n.01'),\n",
       " Synset('marine_animal.n.01'),\n",
       " Synset('mate.n.03'),\n",
       " Synset('metazoan.n.01'),\n",
       " Synset('migrator.n.02'),\n",
       " Synset('molter.n.01'),\n",
       " Synset('mutant.n.02'),\n",
       " Synset('omnivore.n.02'),\n",
       " Synset('peeper.n.03'),\n",
       " Synset('pest.n.04'),\n",
       " Synset('pet.n.01'),\n",
       " Synset('pleurodont.n.01'),\n",
       " Synset('poikilotherm.n.01'),\n",
       " Synset('predator.n.02'),\n",
       " Synset('prey.n.02'),\n",
       " Synset('racer.n.03'),\n",
       " Synset('range_animal.n.01'),\n",
       " Synset('scavenger.n.03'),\n",
       " Synset('stayer.n.01'),\n",
       " Synset('stunt.n.02'),\n",
       " Synset('survivor.n.03'),\n",
       " Synset('thoroughbred.n.03'),\n",
       " Synset('varmint.n.02'),\n",
       " Synset('work_animal.n.01'),\n",
       " Synset('young.n.01'),\n",
       " Synset('zooplankton.n.01')]"
      ]
     },
     "execution_count": 18,
     "metadata": {},
     "output_type": "execute_result"
    }
   ],
   "source": [
    "wn.synset('animal.n.01').hyponyms()"
   ]
  },
  {
   "cell_type": "markdown",
   "metadata": {},
   "source": [
    "If we don't know what one is, we can use `.definition()`"
   ]
  },
  {
   "cell_type": "code",
   "execution_count": 19,
   "metadata": {
    "collapsed": false
   },
   "outputs": [
    {
     "data": {
      "text/plain": [
       "'an animal having teeth consolidated with the summit of the alveolar ridge without sockets'"
      ]
     },
     "execution_count": 19,
     "metadata": {},
     "output_type": "execute_result"
    }
   ],
   "source": [
    "wn.synset('acrodont.n.01').definition()"
   ]
  },
  {
   "cell_type": "markdown",
   "metadata": {},
   "source": [
    "The word 'acrodont' has no hyponyms. But others do:"
   ]
  },
  {
   "cell_type": "code",
   "execution_count": 20,
   "metadata": {
    "collapsed": false
   },
   "outputs": [
    {
     "data": {
      "text/plain": [
       "[Synset('dog.n.01'),\n",
       " Synset('domestic_cat.n.01'),\n",
       " Synset('feeder.n.01'),\n",
       " Synset('head.n.02'),\n",
       " Synset('stocker.n.01'),\n",
       " Synset('stray.n.01')]"
      ]
     },
     "execution_count": 20,
     "metadata": {},
     "output_type": "execute_result"
    }
   ],
   "source": [
    "wn.synset('domestic_animal.n.01').hyponyms()"
   ]
  },
  {
   "cell_type": "code",
   "execution_count": 21,
   "metadata": {
    "collapsed": false
   },
   "outputs": [
    {
     "data": {
      "text/plain": [
       "[Synset('beast_of_burden.n.01'), Synset('draft_animal.n.01')]"
      ]
     },
     "execution_count": 21,
     "metadata": {},
     "output_type": "execute_result"
    }
   ],
   "source": [
    "wn.synset('work_animal.n.01').hyponyms()"
   ]
  },
  {
   "cell_type": "markdown",
   "metadata": {},
   "source": [
    "### Holonyms and meronyms\n",
    "\n",
    "We can use `.member_holonyms()` and `part_meronyms()` to see what the item is contained in (holonym) and what items are make up the item."
   ]
  },
  {
   "cell_type": "code",
   "execution_count": 22,
   "metadata": {
    "collapsed": false
   },
   "outputs": [
    {
     "data": {
      "text/plain": [
       "[Synset('animalia.n.01')]"
      ]
     },
     "execution_count": 22,
     "metadata": {},
     "output_type": "execute_result"
    }
   ],
   "source": [
    "wn.synset('animal.n.01').member_holonyms()"
   ]
  },
  {
   "cell_type": "code",
   "execution_count": 23,
   "metadata": {
    "collapsed": false
   },
   "outputs": [
    {
     "data": {
      "text/plain": [
       "[Synset('face.n.07'), Synset('head.n.01')]"
      ]
     },
     "execution_count": 23,
     "metadata": {},
     "output_type": "execute_result"
    }
   ],
   "source": [
    "wn.synset('animal.n.01').part_meronyms()"
   ]
  },
  {
   "cell_type": "markdown",
   "metadata": {},
   "source": [
    "## Measuring similarity\n",
    "\n",
    "The [Wu and Palmer method](http://search.cpan.org/~tpederse/WordNet-Similarity-1.03/lib/WordNet/Similarity/wup.pm) for semantic related-ness can apparently return a similarity:\n"
   ]
  },
  {
   "cell_type": "code",
   "execution_count": 24,
   "metadata": {
    "collapsed": false
   },
   "outputs": [
    {
     "name": "stdout",
     "output_type": "stream",
     "text": [
      "The similarity between arms and white is 0.5333333333333333\n"
     ]
    }
   ],
   "source": [
    "print(\"The similarity between\",publist[0],\"and\",publist[1],\"is\",wn.synset(publist[0]+'.n.01').wup_similarity(wn.synset(publist[1]+'.n.01')))"
   ]
  },
  {
   "cell_type": "code",
   "execution_count": 25,
   "metadata": {
    "collapsed": false
   },
   "outputs": [
    {
     "name": "stdout",
     "output_type": "stream",
     "text": [
      "The similarity between white and lion is 0.5217391304347826\n"
     ]
    }
   ],
   "source": [
    "print(\"The similarity between\",publist[1],\"and\",publist[2],\"is\",wn.synset(publist[1]+'.n.01').wup_similarity(wn.synset(publist[2]+'.n.01')))"
   ]
  },
  {
   "cell_type": "code",
   "execution_count": 26,
   "metadata": {
    "collapsed": false
   },
   "outputs": [
    {
     "name": "stdout",
     "output_type": "stream",
     "text": [
      "The similarity between lion and head is 0.18181818181818182\n"
     ]
    }
   ],
   "source": [
    "print(\"The similarity between\",publist[2],\"and\",publist[3],\"is\",wn.synset(publist[2]+'.n.01').wup_similarity(wn.synset(publist[3]+'.n.01')))"
   ]
  },
  {
   "cell_type": "code",
   "execution_count": 27,
   "metadata": {
    "collapsed": false
   },
   "outputs": [
    {
     "name": "stdout",
     "output_type": "stream",
     "text": [
      "The similarity between horse and lion is 0.7333333333333333\n"
     ]
    }
   ],
   "source": [
    "print(\"The similarity between horse and lion is\",wn.synset('horse.n.01').wup_similarity(wn.synset('lion.n.01')))"
   ]
  },
  {
   "cell_type": "code",
   "execution_count": 28,
   "metadata": {
    "collapsed": false
   },
   "outputs": [
    {
     "name": "stdout",
     "output_type": "stream",
     "text": [
      "The similarity between saracen and engineer is 0.631578947368421\n"
     ]
    }
   ],
   "source": [
    "#Note that 'engineers' plural throws an error here\n",
    "print(\"The similarity between saracen and engineer is\",wn.synset('saracen.n.01').wup_similarity(wn.synset('engineer.n.01')))"
   ]
  },
  {
   "cell_type": "code",
   "execution_count": null,
   "metadata": {
    "collapsed": true
   },
   "outputs": [],
   "source": []
  }
 ],
 "metadata": {
  "anaconda-cloud": {},
  "kernelspec": {
   "display_name": "Python [conda env:anaconda]",
   "language": "python",
   "name": "conda-env-anaconda-py"
  },
  "language_info": {
   "codemirror_mode": {
    "name": "ipython",
    "version": 3
   },
   "file_extension": ".py",
   "mimetype": "text/x-python",
   "name": "python",
   "nbconvert_exporter": "python",
   "pygments_lexer": "ipython3",
   "version": "3.5.4"
  }
 },
 "nbformat": 4,
 "nbformat_minor": 1
}
