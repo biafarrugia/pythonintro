{
  "nbformat": 4,
  "nbformat_minor": 0,
  "metadata": {
    "colab": {
      "name": "colabnotebooks.ipynb",
      "version": "0.3.2",
      "provenance": [],
      "toc_visible": true
    },
    "kernelspec": {
      "name": "python3",
      "display_name": "Python 3"
    }
  },
  "cells": [
    {
      "cell_type": "markdown",
      "metadata": {
        "id": "dTbTrAU6vYoh",
        "colab_type": "text"
      },
      "source": [
        "# Colab (Google Drive) notebooks\n",
        "\n",
        "Google now allows you to create Python notebooks within Google Drive.\n",
        "\n",
        "To do this, make sure you are logged in to Google Drive and go to [https://colab.research.google.com/](https://colab.research.google.com/).\n",
        "\n",
        "A window should appear with various tabs. At the bottom right of the window you can [create a **NEW PYTHON 3 NOTEBOOK**](https://colab.research.google.com/notebook#create=true&language=python3).\n",
        "\n",
        "Click this.\n",
        "\n",
        "*(Alternatively, you can create a notebook directly within Google Drive by clicking on **New > More > Colaboratory**)*"
      ]
    },
    {
      "cell_type": "markdown",
      "metadata": {
        "id": "cDZbBBDnAFue",
        "colab_type": "text"
      },
      "source": [
        "## The different elements in a Pythonnotebook\n",
        "\n",
        "The file will be called something like *Untitled0.ipynb*. It's worth outlining the different elements on the page in turn:\n",
        "\n",
        "* **File name** (*Untitled0.ipynb*): you can double-click on the name to rename it, like any other Google document. Note the `ipynb` extension which indicates it is a Python notebook.\n",
        "* **Menus**: the notebook has 7 menus, from *File* to *Help*. You can use these to export your notebook as pure Python script, bring up shortcuts and look at the code in different ways, among other things.\n",
        "* **+ CODE** and **+ TEXT** buttons: click on one of these to create a new section of code in your notebook, or a new section of text (at the moment the document has one empty code section)\n",
        "* **Section options**: these become available when you click on, or are editing, a code or text section.\n",
        "* The **notebook itself**, which takes up most of the screen. This current consists of a line of empty code at the top of the document.\n",
        "* A fifth element is almost invisible: it is a little **right-pointing arrow tab** on the left hand of the screen, towards the top of the document itself. Clicking on this opens a new area containing a table of contents for the document, files, and code snippets."
      ]
    },
    {
      "cell_type": "markdown",
      "metadata": {
        "id": "_cJTWAF1AIgn",
        "colab_type": "text"
      },
      "source": [
        "## Creating and formatting text in a notebook\n",
        "\n",
        "Click on the **+ TEXT** button to create a new text section in your notebook. This will be inserted at the bottom, underneath the empty code section. The cursor will already be flashing, so you can start typing (if it is not, just double-click to edit a text section). \n",
        "\n",
        "Type into the text box: \"Above is a line of code\"\n",
        "\n",
        "Note that there are formatting buttons just above the text. These include:\n",
        "\n",
        "* A heading button\n",
        "* Bold\n",
        "* Italic\n",
        "* Linking\n",
        "* Insert image\n",
        "* Indent\n",
        "* A numbered or bullet list\n",
        "* A horizontal rule \n",
        "\n",
        "One which needs a bit more explanation is the  `<>` button. This allows you to *format* text as 'code'. In other words, it will make text a different font, so that it looks like this: `print(\"hello\")`.\n",
        "\n",
        "That text will not be *working* code, however: it will not run or do anything. \n",
        "\n",
        "**Have a play with the formatting buttons** and see what they do to your text. You will notice the following:\n",
        "\n",
        "* Making something a heading will add a `#` to the start of the line. If you click it twice you will get `##` for a second level heading (subheading), and three times will give you `###` for a third level heading (sub-subheading).\n",
        "* Making something bold will add `**` before and after the bold text\n",
        "* Making something italic will add `*` before and after the bold text\n",
        "* Adding a link will put the linked text inside square brackets, and the URL inside round brackets immediately after\n",
        "\n",
        "Other formatting will add different characters too. \n",
        "\n",
        "Those characters are **Markdown**. This is a simple language for adding formatting to text in the same way you might use HTML tags such as `<b>` to make text bold.\n",
        "\n",
        "You can use Markdown in your text directly, too. Try typing the same special characters (e.g. asterisks immediately before and after words to make them bold and/or italic) to format text without having to use the buttons.\n",
        "\n",
        "Notice also that, while you are typing in it, the text section is split into two columns: the typing is done on the left but to the right is an area which shows a *preview* of how your text looks. That preview does *not* include the Markdown - only the resulting text once the formatting has been applied. \n",
        "\n",
        "When you click away from the text box (for example, click on the code section instead), you will notice you now can just see the formatted version of the text. \n",
        "\n",
        "To return to the editing view, just double-click that section at any time."
      ]
    },
    {
      "cell_type": "markdown",
      "metadata": {
        "id": "DGHAsQwOALjr",
        "colab_type": "text"
      },
      "source": [
        "## Moving sections\n",
        "\n",
        "At the moment our text section is below the code section, but we would really prefer it to come *before* the code. That's a good excuse to introduce some other options...\n",
        "\n",
        "Click on the text section and look in the upper-right corner: there should be some more buttons there which allow you to:\n",
        "\n",
        "* Move the section up or down\n",
        "* Get a link which will take someone directly to that section\n",
        "* Add a comment to the section\n",
        "* Edit the section\n",
        "* Delete the section\n",
        "* Access more options, including copying or cutting the section\n",
        "\n",
        "Use these options to move the text section to the top of the document.\n",
        "\n",
        "Now it's time to turn our attention to the code section."
      ]
    },
    {
      "cell_type": "markdown",
      "metadata": {
        "id": "Lmf7UBhIANBu",
        "colab_type": "text"
      },
      "source": [
        "## Writing and running code in a notebook\n",
        "\n",
        "Every new notebook has one code section by default, so we already have a code section in the notebook. This can be edited by simply clicking into it (you don't have to double-click).\n",
        "\n",
        "Click into your code section and write the following:\n",
        "\n",
        "```py\n",
        "print(\"hello\")\n",
        "```\n",
        "\n",
        "Then click the 'play' button (actually it means 'run') to the left of that section."
      ]
    },
    {
      "cell_type": "code",
      "metadata": {
        "id": "ZUqSPw2tu_n6",
        "colab_type": "code",
        "colab": {
          "base_uri": "https://localhost:8080/",
          "height": 34
        },
        "outputId": "1ca2f0cc-9bc2-44a0-b98a-d0b7b214899c"
      },
      "source": [
        "print(\"hello\")"
      ],
      "execution_count": 1,
      "outputs": [
        {
          "output_type": "stream",
          "text": [
            "hello\n"
          ],
          "name": "stdout"
        }
      ]
    },
    {
      "cell_type": "markdown",
      "metadata": {
        "id": "qfeth3suwqC_",
        "colab_type": "text"
      },
      "source": [
        "The code in that section will now run. Two things to point out here:\n",
        "\n",
        "1. A number in square brackets will appear to the left of the code section. This indicates the order in which a section of code has been run, so at the moment this will be `[1]` to indicate that this was run first. If sections of code have been run out of sequence (for example a section at the bottom of a notebook was run first, and then one near the top), these numbers can help you to identify that. It will also indicate if code has been run and then deleted (numbers will be missing).\n",
        "2. Any **output** from the code will be displayed underneath the code section. Sometimes - in fact, often - code will not have any obvious output. The `print()` command above is often used to create an output that allows us to see what's happening inside the code. But unless we ask it to show us in this way, we won't necessarily be able to check what the code is doing.\n",
        "\n",
        "To demonstrate this, create a new code section and type the following:\n",
        "\n",
        "```py\n",
        "myname = \"Paul\"\n",
        "```\n",
        "\n",
        "And *run* the code."
      ]
    },
    {
      "cell_type": "code",
      "metadata": {
        "id": "nvqKet-I3Gq9",
        "colab_type": "code",
        "colab": {}
      },
      "source": [
        "myname = \"Paul\""
      ],
      "execution_count": 0,
      "outputs": []
    },
    {
      "cell_type": "markdown",
      "metadata": {
        "id": "BJzcrTea3tKM",
        "colab_type": "text"
      },
      "source": [
        "Note that this time there is no output. \n",
        "\n",
        "What you have done with that line of code is create a new **variable**. A variable is a way to store information in code. In this case it is storing the text `\"Paul\"`.\n",
        "\n",
        "If we want to check what is in that variable, we can use `print()` again, this time putting the variable name inside the brackets:\n",
        "\n",
        "\n",
        "```py\n",
        "print(myname)\n",
        "```"
      ]
    },
    {
      "cell_type": "code",
      "metadata": {
        "id": "bmnBpn6n4MeN",
        "colab_type": "code",
        "colab": {
          "base_uri": "https://localhost:8080/",
          "height": 34
        },
        "outputId": "edb6df3d-59d3-4471-bd43-1995ac3c49b5"
      },
      "source": [
        "print(myname)"
      ],
      "execution_count": 7,
      "outputs": [
        {
          "output_type": "stream",
          "text": [
            "Paul\n"
          ],
          "name": "stdout"
        }
      ]
    },
    {
      "cell_type": "markdown",
      "metadata": {
        "id": "rxgKRfox4QK2",
        "colab_type": "text"
      },
      "source": [
        "Now we can see the *contents* of that variable. \n",
        "\n",
        "## Errors \n",
        "\n",
        "Some other things to point out about this variable. You will notice that `\"Paul\"` was in quotation marks. This tells Python that we are storing text (in programming, what we call a **string**: a string of characters).\n",
        "\n",
        "If we didn't use quotation marks... \n",
        "\n",
        "```py\n",
        "myname = Paul\n",
        "```\n",
        "\n",
        "...and then *run* that code, the output (which normally would show nothing) will show an error:\n",
        "\n",
        "```\n",
        "NameError                                 Traceback (most recent call last)\n",
        "\n",
        "<ipython-input-8-65398431861c> in <module>()\n",
        "----> 1 myname = Paul\n",
        "\n",
        "NameError: name 'Paul' is not defined\n",
        "```"
      ]
    },
    {
      "cell_type": "code",
      "metadata": {
        "id": "uM417i8W4Pdw",
        "colab_type": "code",
        "colab": {
          "base_uri": "https://localhost:8080/",
          "height": 165
        },
        "outputId": "37f8cb5b-8ecb-4707-b0ab-69c147ca8a71"
      },
      "source": [
        "myname = Paul"
      ],
      "execution_count": 8,
      "outputs": [
        {
          "output_type": "error",
          "ename": "NameError",
          "evalue": "ignored",
          "traceback": [
            "\u001b[0;31m---------------------------------------------------------------------------\u001b[0m",
            "\u001b[0;31mNameError\u001b[0m                                 Traceback (most recent call last)",
            "\u001b[0;32m<ipython-input-8-65398431861c>\u001b[0m in \u001b[0;36m<module>\u001b[0;34m()\u001b[0m\n\u001b[0;32m----> 1\u001b[0;31m \u001b[0mmyname\u001b[0m \u001b[0;34m=\u001b[0m \u001b[0mPaul\u001b[0m\u001b[0;34m\u001b[0m\u001b[0;34m\u001b[0m\u001b[0m\n\u001b[0m",
            "\u001b[0;31mNameError\u001b[0m: name 'Paul' is not defined"
          ]
        }
      ]
    },
    {
      "cell_type": "markdown",
      "metadata": {
        "id": "rhV5lIh05iz8",
        "colab_type": "text"
      },
      "source": [
        "### Understanding an error output\n",
        "\n",
        "Our instinct when confronted with an error (especially with that red text) is to feel bad - to feel anxiety. But errors are part and parcel of programming, and *using* an error is a skill in itself. \n",
        "\n",
        "It is useful to look for two key parts in the error:\n",
        "\n",
        "* An indication of which *line* has caused the error; and\n",
        "* An explanation of what the error *is*\n",
        "\n",
        "In this case the line is indicated with:\n",
        "\n",
        "`----> 1 myname = Paul`\n",
        "\n",
        "The `1` means line 1 (hardly a surprise, given our code only has one line).\n",
        "\n",
        "This is followed by the actual code on that line.\n",
        "\n",
        "If we had dozens of lines of code then this will help us identify the cause of the error more easily. Now we can decide what to do with it. \n",
        "\n",
        "Next we can look for the explanation. Here it is:\n",
        "\n",
        "`NameError: name 'Paul' is not defined`\n",
        "\n",
        "There are two parts to this: `NameError` indicates the *type* of error. We could [Google \"NameError Python\"](https://www.google.com/search?q=nameerror+python) to find out more.\n",
        "\n",
        "In fact, we don't even need to do that ourselves. What's quite good in a Colab notebook is that it automatically provides a button for us to **search Stack Overflow** for that error. \n",
        "\n",
        "This is a good habit to get into. But I'll explain anyway...\n",
        "\n",
        "A clue is provided by the error details: `name 'Paul' is not defined`. It thinks 'Paul' is some sort of *name* of something (not in the human sense, but in a programming sense). For example, it is looking for the name of a command, or another variable, or a piece of code called a function. \n",
        "\n",
        "When text is not in quotation marks, Python assumes we are referring not to the string of characters \"Paul\", but instead that `Paul` means something special. \n",
        "\n",
        "In this case we don't mean something special, but merely the *string of characters* \"Paul\", so we correct the mistake:\n"
      ]
    },
    {
      "cell_type": "code",
      "metadata": {
        "id": "v-n3s-WB-0NO",
        "colab_type": "code",
        "colab": {}
      },
      "source": [
        "myname = \"Paul\""
      ],
      "execution_count": 0,
      "outputs": []
    },
    {
      "cell_type": "markdown",
      "metadata": {
        "id": "lzNUV3p0G9an",
        "colab_type": "text"
      },
      "source": [
        "### Tip: Adding line numbers to code sections\n",
        "\n",
        "It's useful to be able to see the numbers for each line of code but by default these aren't shown. To change this, double-click on a section (it doesn't matter if it's code or text) and click on the 'cog wheel' button for the 'Preferences' menu. \n",
        "\n",
        "This has 3 sections: in the *Editor* section you should be able to tick the box that says *Show line numbers* and click **Save** to apply.\n",
        "\n",
        "*(You can also access the Preferences menu from the main **Tools** menu)*"
      ]
    },
    {
      "cell_type": "markdown",
      "metadata": {
        "id": "2uNpl9p1-2R1",
        "colab_type": "text"
      },
      "source": [
        "## The hidden menu\n",
        "\n",
        "One area we haven't yet explored is the **right-pointing arrow tab** on the left. Click on this and it opens up a new section with three areas:\n",
        "\n",
        "* **Table of contents**: this allows you to navigate quickly around your document by extracting any headings from text sections: click on them here to jump to that section. (Annoyingly, it only seems to extract one per text section. For this reason, it's probably best to **create a new text section every time you use a new heading**.) You can also create new text sections directly from this area by clicking **+ SECTION**.\n",
        "* **Code snippets**: this allows you to find and access snippets of code from Google's own library, and insert them into your notebook.\n",
        "* **Files**: if your code creates any files (for example exporting a CSV) then it can be accessed here. In addition, Colab has some built-in sample data which can be found here."
      ]
    },
    {
      "cell_type": "markdown",
      "metadata": {
        "id": "Gj7rmujKBf1i",
        "colab_type": "text"
      },
      "source": [
        "## Uploading and downloading data/files\n",
        "\n",
        "This *Files* section is very important because it highlights something about Colab notebooks that can be confusing.\n",
        "\n",
        "Because our notebook is in Google Drive it can be easy to assume that any files we create are, too.\n",
        "\n",
        "But they're not.\n",
        "\n",
        "Google runs your Python code on a **virtual machine**, located somewhere else. As a result, any files created will be stored *on that machine*, not on your Google Drive.\n",
        "\n",
        "Likewise, if you want it to work with any external files, you will need to *get them onto that virtual machine* too - or load them from an exernal URL.\n",
        "\n",
        "The *Files* area has an **UPLOAD** button which allows you to transfer files from your machine to the virtual machine where it is running.\n",
        "\n",
        "Likewise, if your code creates any files you should be able to see them here, then right-click and select **Download**. \n",
        "\n",
        "You can try that with the sample data inside the *sample_data* folder already on the virtual machine, that is shown in the *Files* view.\n",
        "\n"
      ]
    },
    {
      "cell_type": "markdown",
      "metadata": {
        "id": "MgjYm-xuC17a",
        "colab_type": "text"
      },
      "source": [
        "## Connecting to your own Google Drive\n",
        "\n",
        "In the *Files* area there is also a button to **MOUNT DRIVE**.  Clicking on this will insert a new code block with the code needed to connect your Google Drive:\n",
        "\n",
        "```py\n",
        "from google.colab import drive\n",
        "drive.mount('/content/drive')\n",
        "```\n",
        "\n",
        "It isn't worth going into the details about mounting drives right now. I just want to draw your attention to the place where you would do that. More on that, as well as other options importing and exporting files, [can be found here](https://colab.research.google.com/notebooks/io.ipynb)"
      ]
    },
    {
      "cell_type": "markdown",
      "metadata": {
        "id": "cTWgOfuOELI7",
        "colab_type": "text"
      },
      "source": [
        "## Exporting or sharing your Python notebook\n",
        "\n",
        "One of the main reasons for using notebooks is to be able to share your code with others, and/or show how you arrived at a particular result.\n",
        "\n",
        "The easiest way to do this is to use the **SHARE** button in the upper right corner, as you would with any other Google Drive document. As with Google documents, you can choose to share it with individuals, or get a sharable link for anyone, and you can choose to give people access to view it, comment on it, or to edit it.\n",
        "\n",
        "However, you will probably want to publish your notebook on a GitHub repo alongside a project. To do this, select **File > Download .ipynb** and the notebook will be downloaded to your computer in that format. \n",
        "\n",
        "The notebook can then be uploaded to a GitHub repo as you would any file. GitHub will render the notebook nicely so formatting and code output is retained.\n",
        "\n",
        "(Note that there is also an option to **Save a copy in GitHub** which will ask you to authorise with your GitHub account)"
      ]
    },
    {
      "cell_type": "markdown",
      "metadata": {
        "id": "Vz58fSH8GKWg",
        "colab_type": "text"
      },
      "source": [
        "## Exporting a working Python file\n",
        "\n",
        "You can also download the notebook as a `.py` file. This means it can be *run as code*\n",
        "\n",
        "To do this select **File > Download .py** \n",
        "\n",
        "All the text sections in your document will be *commented out* in this .py file, using `\"\"\"` at the start and end."
      ]
    }
  ]
}