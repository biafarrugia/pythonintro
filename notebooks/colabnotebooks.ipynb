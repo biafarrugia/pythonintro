{
  "nbformat": 4,
  "nbformat_minor": 0,
  "metadata": {
    "colab": {
      "name": "colabnotebooks.ipynb",
      "version": "0.3.2",
      "provenance": []
    },
    "kernelspec": {
      "name": "python3",
      "display_name": "Python 3"
    }
  },
  "cells": [
    {
      "cell_type": "markdown",
      "metadata": {
        "id": "dTbTrAU6vYoh",
        "colab_type": "text"
      },
      "source": [
        "# Colab (Google Drive) notebooks\n",
        "\n",
        "Google now allows you to create Python notebooks within Google Drive.\n",
        "\n",
        "To do this, make sure you are logged in to Google Drive and go to [https://colab.research.google.com/](https://colab.research.google.com/).\n",
        "\n",
        "A window should appear with various tabs. At the bottom right of the window you can [create a **NEW PYTHON 3 NOTEBOOK**](https://colab.research.google.com/notebook#create=true&language=python3).\n",
        "\n",
        "Click this.\n",
        "\n",
        "## The different elements in a Pythonnotebook\n",
        "\n",
        "The file will be called something like *Untitled0.ipynb*. It's worth outlining the different elements on the page in turn:\n",
        "\n",
        "* **File name** (*Untitled0.ipynb*): you can double-click on the name to rename it, like any other Google document. Note the `ipynb` extension which indicates it is a Python notebook.\n",
        "* **Menus**: the notebook has 7 menus, from *File* to *Help*. You can use these to export your notebook as pure Python script, bring up shortcuts and look at the code in different ways, among other things.\n",
        "* **+ CODE** and **+ TEXT** buttons: click on one of these to create a new section of code in your notebook, or a new section of text (at the moment the document has one empty code section)\n",
        "* The **notebook itself**, which takes up most of the screen. This current consists of a line of empty code at the top of the document.\n",
        "\n",
        "## Creating and formatting text in a notebook\n",
        "\n",
        "Click on the **+ TEXT** button to create a new text section in your notebook. This will be inserted at the bottom, underneath the empty code section. The cursor will already be flashing, so you can start typing (if it is not, just double-click to edit a text section). \n",
        "\n",
        "Type into the text box: \"Above is a line of code\"\n",
        "\n",
        "Note that there are formatting buttons just above the text. These include:\n",
        "\n",
        "* A heading button\n",
        "* Bold\n",
        "* Italic\n",
        "* Linking\n",
        "* Insert image\n",
        "* Indent\n",
        "* A numbered or bullet list\n",
        "* A horizontal rule \n",
        "\n",
        "One which needs a bit more explanation is the  `<>` button. This allows you to *format* text as 'code'. In other words, it will make text a different font, so that it looks like this: `print(\"hello\")`.\n",
        "\n",
        "That text will not be *working* code, however: it will not run or do anything. \n",
        "\n",
        "**Have a play with the formatting buttons** and see what they do to your text. You will notice the following:\n",
        "\n",
        "* Making something a heading will add a `#` to the start of the line. If you click it twice you will get `##` for a second level heading (subheading), and three times will give you `###` for a third level heading (sub-subheading).\n",
        "* Making something bold will add `**` before and after the bold text\n",
        "* Making something italic will add `*` before and after the bold text\n",
        "* Adding a link will put the linked text inside square brackets, and the URL inside round brackets immediately after\n",
        "\n",
        "Other formatting will add different characters too. \n",
        "\n",
        "Those characters are **Markdown**. This is a simple language for adding formatting to text in the same way you might use HTML tags such as `<b>` to make text bold.\n",
        "\n",
        "You can use Markdown in your text directly, too. Try typing the same special characters (e.g. asterisks immediately before and after words to make them bold and/or italic) to format text without having to use the buttons.\n",
        "\n",
        "Notice also that, while you are typing in it, the text section is split into two columns: the typing is done on the left but to the right is an area which shows a *preview* of how your text looks. That preview does *not* include the Markdown - only the resulting text once the formatting has been applied. \n",
        "\n",
        "When you click away from the text box (for example, click on the code section instead), you will notice you now can just see the formatted version of the text. \n",
        "\n",
        "To return to the editing view, just double-click that section at any time.\n",
        "\n",
        "## Moving sections\n",
        "\n",
        "At the moment our text section is below the code section, but we would really prefer it to come *before* the code. That's a good excuse to introduce some other options...\n",
        "\n",
        "Click on the text section and look in the upper-right corner: there should be some more buttons there which allow you to:\n",
        "\n",
        "* Move the section up or down\n",
        "* Get a link which will take someone directly to that section\n",
        "* Add a comment to the section\n",
        "* Edit the section\n",
        "* Delete the section\n",
        "* Access more options, including copying or cutting the section\n",
        "\n",
        "Use these options to move the text section to the top of the document.\n",
        "\n",
        "Now it's time to turn our attention to the code section.\n",
        "\n",
        "## Writing and running code in a notebook\n",
        "\n",
        "Every new notebook has one code section by default, so we already have a code section in the notebook. This can be edited by simply clicking into it (you don't have to double-click).\n",
        "\n",
        "Click into your code section and write the following:\n",
        "\n",
        "```py\n",
        "print(\"hello\")\n",
        "```\n",
        "\n",
        "Then click the 'play' button (actually it means 'run') to the left of that section."
      ]
    },
    {
      "cell_type": "code",
      "metadata": {
        "id": "ZUqSPw2tu_n6",
        "colab_type": "code",
        "colab": {
          "base_uri": "https://localhost:8080/",
          "height": 34
        },
        "outputId": "1ca2f0cc-9bc2-44a0-b98a-d0b7b214899c"
      },
      "source": [
        "print(\"hello\")"
      ],
      "execution_count": 1,
      "outputs": [
        {
          "output_type": "stream",
          "text": [
            "hello\n"
          ],
          "name": "stdout"
        }
      ]
    },
    {
      "cell_type": "markdown",
      "metadata": {
        "id": "qfeth3suwqC_",
        "colab_type": "text"
      },
      "source": [
        "The code in that section will now run. Two things to point out here:\n",
        "\n",
        "1. A number in square brackets will appear to the left of the code section. This indicates the order in which a section of code has been run, so at the moment this will be `[1]` to indicate that this was run first. If sections of code have been run out of sequence (for example a section at the bottom of a notebook was run first, and then one near the top), these numbers can help you to identify that. It will also indicate if code has been run and then deleted (numbers will be missing).\n",
        "2. Any **output** from the code will be displayed underneath the code section. Sometimes - in fact, often - code will not have any obvious output. The `print()` command above is often used to create an output that allows us to see what's happening inside the code. But unless we ask it to show us in this way, we won't necessarily be able to check what the code is doing.\n",
        "\n",
        "To demonstrate this, create a new code section and type the following:\n",
        "\n",
        "```py\n",
        "myname = \"Paul\"\n",
        "```\n",
        "\n",
        "And *run* the code."
      ]
    },
    {
      "cell_type": "code",
      "metadata": {
        "id": "nvqKet-I3Gq9",
        "colab_type": "code",
        "colab": {}
      },
      "source": [
        "myname = \"Paul\""
      ],
      "execution_count": 0,
      "outputs": []
    },
    {
      "cell_type": "markdown",
      "metadata": {
        "id": "BJzcrTea3tKM",
        "colab_type": "text"
      },
      "source": [
        "Note that this time there is no output. \n",
        "\n",
        "What you have done with that line of code is create a new **variable**. A variable is a way to store information in code. In this case it is storing the text `\"Paul\"`.\n",
        "\n",
        "If we want to check what is in that variable, we can use `print()` again, this time putting the variable name inside the brackets:\n",
        "\n",
        "\n",
        "```py\n",
        "print(myname)\n",
        "```"
      ]
    },
    {
      "cell_type": "code",
      "metadata": {
        "id": "bmnBpn6n4MeN",
        "colab_type": "code",
        "colab": {
          "base_uri": "https://localhost:8080/",
          "height": 34
        },
        "outputId": "edb6df3d-59d3-4471-bd43-1995ac3c49b5"
      },
      "source": [
        "print(myname)"
      ],
      "execution_count": 7,
      "outputs": [
        {
          "output_type": "stream",
          "text": [
            "Paul\n"
          ],
          "name": "stdout"
        }
      ]
    },
    {
      "cell_type": "markdown",
      "metadata": {
        "id": "rxgKRfox4QK2",
        "colab_type": "text"
      },
      "source": [
        "Now we can see the *contents* of that variable. \n",
        "\n",
        "## Errors \n",
        "\n",
        "Some other things to point out about this variable. You will notice that `\"Paul\"` was in quotation marks. This tells Python that we are storing text (in programming, what we call a **string**: a string of characters).\n",
        "\n",
        "If we didn't use quotation marks... \n",
        "\n",
        "```py\n",
        "myname = Paul\n",
        "```\n",
        "\n",
        "...and then *run* that code, the output (which normally would show nothing) will show an error:\n",
        "\n",
        "```\n",
        "NameError                                 Traceback (most recent call last)\n",
        "\n",
        "<ipython-input-8-65398431861c> in <module>()\n",
        "----> 1 myname = Paul\n",
        "\n",
        "NameError: name 'Paul' is not defined\n",
        "```"
      ]
    },
    {
      "cell_type": "code",
      "metadata": {
        "id": "uM417i8W4Pdw",
        "colab_type": "code",
        "colab": {
          "base_uri": "https://localhost:8080/",
          "height": 165
        },
        "outputId": "37f8cb5b-8ecb-4707-b0ab-69c147ca8a71"
      },
      "source": [
        "myname = Paul"
      ],
      "execution_count": 8,
      "outputs": [
        {
          "output_type": "error",
          "ename": "NameError",
          "evalue": "ignored",
          "traceback": [
            "\u001b[0;31m---------------------------------------------------------------------------\u001b[0m",
            "\u001b[0;31mNameError\u001b[0m                                 Traceback (most recent call last)",
            "\u001b[0;32m<ipython-input-8-65398431861c>\u001b[0m in \u001b[0;36m<module>\u001b[0;34m()\u001b[0m\n\u001b[0;32m----> 1\u001b[0;31m \u001b[0mmyname\u001b[0m \u001b[0;34m=\u001b[0m \u001b[0mPaul\u001b[0m\u001b[0;34m\u001b[0m\u001b[0;34m\u001b[0m\u001b[0m\n\u001b[0m",
            "\u001b[0;31mNameError\u001b[0m: name 'Paul' is not defined"
          ]
        }
      ]
    },
    {
      "cell_type": "markdown",
      "metadata": {
        "id": "rhV5lIh05iz8",
        "colab_type": "text"
      },
      "source": [
        "This is because Python now assumes we are referring not to a string of characters \"Paul\", but instead that `Paul` means something special. For example, it might be the name of a command, or another variable, or a piece of code called a function. \n",
        "\n",
        "\n",
        "\n"
      ]
    }
  ]
}